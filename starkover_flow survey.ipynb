{
 "cells": [
  {
   "cell_type": "markdown",
   "id": "efb8f109",
   "metadata": {},
   "source": [
    "# Data Analysis of 2017 Stack Overflow Survey\n",
    "\n",
    "In this project I will be analyzing the Stack Overflow Annual Developer Survey 2017 data to gain an insight into a developer professional code life and examine all aspects of the developer experience from career satisfaction and job search to education and opinion on open data source.\n",
    "\n",
    "\n",
    "# Content\n",
    "\n",
    "1. Import Library \n",
    "\n",
    "2. Import Data Set \n",
    "\n",
    "3. Data Cleaning\n",
    "\n",
    "4. Data Exploration\n",
    "\n",
    "5. Model Development\n"
   ]
  },
  {
   "cell_type": "markdown",
   "id": "91342a07",
   "metadata": {},
   "source": [
    "# 1. import library \n",
    "\n",
    "Import All the library to be use in this notebook"
   ]
  },
  {
   "cell_type": "code",
   "execution_count": 4,
   "id": "50ff639c",
   "metadata": {},
   "outputs": [],
   "source": [
    "import pandas as pd\n",
    "import matplotlib.pyplot as plt\n",
    "import numpy as np\n",
    "import seaborn as sns\n",
    "\n",
    "from sklearn.pipeline import Pipeline\n",
    "from sklearn.preprocessing import StandardScaler,PolynomialFeatures\n",
    "from sklearn.linear_model import LinearRegression\n",
    "from sklearn.metrics import mean_squared_error\n",
    "from sklearn.metrics import r2_score\n",
    "from ipywidgets import interact, interactive, fixed, interact_manual\n",
    "from sklearn.model_selection import train_test_split\n",
    "from sklearn.model_selection import cross_val_predict\n",
    "\n",
    "from geopy.exc import GeocoderTimedOut \n",
    "from geopy.geocoders import Nominatim\n",
    "import squarify \n",
    "\n",
    "from PIL import Image\n",
    "from wordcloud import WordCloud, STOPWORDS, ImageColorGenerator\n",
    "\n",
    "%matplotlib inline"
   ]
  },
  {
   "cell_type": "markdown",
   "id": "9949bb9d",
   "metadata": {},
   "source": [
    "# 2. Import data set\n",
    "\n",
    "Import data set for analysis"
   ]
  },
  {
   "cell_type": "code",
   "execution_count": 5,
   "id": "f113188c",
   "metadata": {},
   "outputs": [
    {
     "data": {
      "text/html": [
       "<div>\n",
       "<style scoped>\n",
       "    .dataframe tbody tr th:only-of-type {\n",
       "        vertical-align: middle;\n",
       "    }\n",
       "\n",
       "    .dataframe tbody tr th {\n",
       "        vertical-align: top;\n",
       "    }\n",
       "\n",
       "    .dataframe thead th {\n",
       "        text-align: right;\n",
       "    }\n",
       "</style>\n",
       "<table border=\"1\" class=\"dataframe\">\n",
       "  <thead>\n",
       "    <tr style=\"text-align: right;\">\n",
       "      <th></th>\n",
       "      <th>Respondent</th>\n",
       "      <th>Professional</th>\n",
       "      <th>ProgramHobby</th>\n",
       "      <th>Country</th>\n",
       "      <th>University</th>\n",
       "      <th>EmploymentStatus</th>\n",
       "      <th>FormalEducation</th>\n",
       "      <th>MajorUndergrad</th>\n",
       "      <th>HomeRemote</th>\n",
       "      <th>CompanySize</th>\n",
       "      <th>...</th>\n",
       "      <th>StackOverflowMakeMoney</th>\n",
       "      <th>Gender</th>\n",
       "      <th>HighestEducationParents</th>\n",
       "      <th>Race</th>\n",
       "      <th>SurveyLong</th>\n",
       "      <th>QuestionsInteresting</th>\n",
       "      <th>QuestionsConfusing</th>\n",
       "      <th>InterestedAnswers</th>\n",
       "      <th>Salary</th>\n",
       "      <th>ExpectedSalary</th>\n",
       "    </tr>\n",
       "  </thead>\n",
       "  <tbody>\n",
       "    <tr>\n",
       "      <th>0</th>\n",
       "      <td>1</td>\n",
       "      <td>Student</td>\n",
       "      <td>Yes, both</td>\n",
       "      <td>United States</td>\n",
       "      <td>No</td>\n",
       "      <td>Not employed, and not looking for work</td>\n",
       "      <td>Secondary school</td>\n",
       "      <td>NaN</td>\n",
       "      <td>NaN</td>\n",
       "      <td>NaN</td>\n",
       "      <td>...</td>\n",
       "      <td>Strongly disagree</td>\n",
       "      <td>Male</td>\n",
       "      <td>High school</td>\n",
       "      <td>White or of European descent</td>\n",
       "      <td>Strongly disagree</td>\n",
       "      <td>Strongly agree</td>\n",
       "      <td>Disagree</td>\n",
       "      <td>Strongly agree</td>\n",
       "      <td>NaN</td>\n",
       "      <td>NaN</td>\n",
       "    </tr>\n",
       "    <tr>\n",
       "      <th>1</th>\n",
       "      <td>2</td>\n",
       "      <td>Student</td>\n",
       "      <td>Yes, both</td>\n",
       "      <td>United Kingdom</td>\n",
       "      <td>Yes, full-time</td>\n",
       "      <td>Employed part-time</td>\n",
       "      <td>Some college/university study without earning ...</td>\n",
       "      <td>Computer science or software engineering</td>\n",
       "      <td>More than half, but not all, the time</td>\n",
       "      <td>20 to 99 employees</td>\n",
       "      <td>...</td>\n",
       "      <td>Strongly disagree</td>\n",
       "      <td>Male</td>\n",
       "      <td>A master's degree</td>\n",
       "      <td>White or of European descent</td>\n",
       "      <td>Somewhat agree</td>\n",
       "      <td>Somewhat agree</td>\n",
       "      <td>Disagree</td>\n",
       "      <td>Strongly agree</td>\n",
       "      <td>NaN</td>\n",
       "      <td>37500.0</td>\n",
       "    </tr>\n",
       "    <tr>\n",
       "      <th>2</th>\n",
       "      <td>3</td>\n",
       "      <td>Professional developer</td>\n",
       "      <td>Yes, both</td>\n",
       "      <td>United Kingdom</td>\n",
       "      <td>No</td>\n",
       "      <td>Employed full-time</td>\n",
       "      <td>Bachelor's degree</td>\n",
       "      <td>Computer science or software engineering</td>\n",
       "      <td>Less than half the time, but at least one day ...</td>\n",
       "      <td>10,000 or more employees</td>\n",
       "      <td>...</td>\n",
       "      <td>Disagree</td>\n",
       "      <td>Male</td>\n",
       "      <td>A professional degree</td>\n",
       "      <td>White or of European descent</td>\n",
       "      <td>Somewhat agree</td>\n",
       "      <td>Agree</td>\n",
       "      <td>Disagree</td>\n",
       "      <td>Agree</td>\n",
       "      <td>113750.0</td>\n",
       "      <td>NaN</td>\n",
       "    </tr>\n",
       "    <tr>\n",
       "      <th>3</th>\n",
       "      <td>4</td>\n",
       "      <td>Professional non-developer who sometimes write...</td>\n",
       "      <td>Yes, both</td>\n",
       "      <td>United States</td>\n",
       "      <td>No</td>\n",
       "      <td>Employed full-time</td>\n",
       "      <td>Doctoral degree</td>\n",
       "      <td>A non-computer-focused engineering discipline</td>\n",
       "      <td>Less than half the time, but at least one day ...</td>\n",
       "      <td>10,000 or more employees</td>\n",
       "      <td>...</td>\n",
       "      <td>Disagree</td>\n",
       "      <td>Male</td>\n",
       "      <td>A doctoral degree</td>\n",
       "      <td>White or of European descent</td>\n",
       "      <td>Agree</td>\n",
       "      <td>Agree</td>\n",
       "      <td>Somewhat agree</td>\n",
       "      <td>Strongly agree</td>\n",
       "      <td>NaN</td>\n",
       "      <td>NaN</td>\n",
       "    </tr>\n",
       "    <tr>\n",
       "      <th>4</th>\n",
       "      <td>5</td>\n",
       "      <td>Professional developer</td>\n",
       "      <td>Yes, I program as a hobby</td>\n",
       "      <td>Switzerland</td>\n",
       "      <td>No</td>\n",
       "      <td>Employed full-time</td>\n",
       "      <td>Master's degree</td>\n",
       "      <td>Computer science or software engineering</td>\n",
       "      <td>Never</td>\n",
       "      <td>10 to 19 employees</td>\n",
       "      <td>...</td>\n",
       "      <td>NaN</td>\n",
       "      <td>NaN</td>\n",
       "      <td>NaN</td>\n",
       "      <td>NaN</td>\n",
       "      <td>NaN</td>\n",
       "      <td>NaN</td>\n",
       "      <td>NaN</td>\n",
       "      <td>NaN</td>\n",
       "      <td>NaN</td>\n",
       "      <td>NaN</td>\n",
       "    </tr>\n",
       "  </tbody>\n",
       "</table>\n",
       "<p>5 rows × 154 columns</p>\n",
       "</div>"
      ],
      "text/plain": [
       "   Respondent                                       Professional  \\\n",
       "0           1                                            Student   \n",
       "1           2                                            Student   \n",
       "2           3                             Professional developer   \n",
       "3           4  Professional non-developer who sometimes write...   \n",
       "4           5                             Professional developer   \n",
       "\n",
       "                ProgramHobby         Country      University  \\\n",
       "0                  Yes, both   United States              No   \n",
       "1                  Yes, both  United Kingdom  Yes, full-time   \n",
       "2                  Yes, both  United Kingdom              No   \n",
       "3                  Yes, both   United States              No   \n",
       "4  Yes, I program as a hobby     Switzerland              No   \n",
       "\n",
       "                         EmploymentStatus  \\\n",
       "0  Not employed, and not looking for work   \n",
       "1                      Employed part-time   \n",
       "2                      Employed full-time   \n",
       "3                      Employed full-time   \n",
       "4                      Employed full-time   \n",
       "\n",
       "                                     FormalEducation  \\\n",
       "0                                   Secondary school   \n",
       "1  Some college/university study without earning ...   \n",
       "2                                  Bachelor's degree   \n",
       "3                                    Doctoral degree   \n",
       "4                                    Master's degree   \n",
       "\n",
       "                                  MajorUndergrad  \\\n",
       "0                                            NaN   \n",
       "1       Computer science or software engineering   \n",
       "2       Computer science or software engineering   \n",
       "3  A non-computer-focused engineering discipline   \n",
       "4       Computer science or software engineering   \n",
       "\n",
       "                                          HomeRemote  \\\n",
       "0                                                NaN   \n",
       "1              More than half, but not all, the time   \n",
       "2  Less than half the time, but at least one day ...   \n",
       "3  Less than half the time, but at least one day ...   \n",
       "4                                              Never   \n",
       "\n",
       "                CompanySize  ... StackOverflowMakeMoney Gender  \\\n",
       "0                       NaN  ...      Strongly disagree   Male   \n",
       "1        20 to 99 employees  ...      Strongly disagree   Male   \n",
       "2  10,000 or more employees  ...               Disagree   Male   \n",
       "3  10,000 or more employees  ...               Disagree   Male   \n",
       "4        10 to 19 employees  ...                    NaN    NaN   \n",
       "\n",
       "  HighestEducationParents                          Race         SurveyLong  \\\n",
       "0             High school  White or of European descent  Strongly disagree   \n",
       "1       A master's degree  White or of European descent     Somewhat agree   \n",
       "2   A professional degree  White or of European descent     Somewhat agree   \n",
       "3       A doctoral degree  White or of European descent              Agree   \n",
       "4                     NaN                           NaN                NaN   \n",
       "\n",
       "  QuestionsInteresting QuestionsConfusing InterestedAnswers    Salary  \\\n",
       "0       Strongly agree           Disagree    Strongly agree       NaN   \n",
       "1       Somewhat agree           Disagree    Strongly agree       NaN   \n",
       "2                Agree           Disagree             Agree  113750.0   \n",
       "3                Agree     Somewhat agree    Strongly agree       NaN   \n",
       "4                  NaN                NaN               NaN       NaN   \n",
       "\n",
       "   ExpectedSalary  \n",
       "0             NaN  \n",
       "1         37500.0  \n",
       "2             NaN  \n",
       "3             NaN  \n",
       "4             NaN  \n",
       "\n",
       "[5 rows x 154 columns]"
      ]
     },
     "execution_count": 5,
     "metadata": {},
     "output_type": "execute_result"
    }
   ],
   "source": [
    "df = pd.read_csv(\"survey_results_public.csv\" )\n",
    "df.head()"
   ]
  },
  {
   "cell_type": "code",
   "execution_count": 4,
   "id": "a40d7fac",
   "metadata": {},
   "outputs": [
    {
     "data": {
      "text/html": [
       "<div>\n",
       "<style scoped>\n",
       "    .dataframe tbody tr th:only-of-type {\n",
       "        vertical-align: middle;\n",
       "    }\n",
       "\n",
       "    .dataframe tbody tr th {\n",
       "        vertical-align: top;\n",
       "    }\n",
       "\n",
       "    .dataframe thead th {\n",
       "        text-align: right;\n",
       "    }\n",
       "</style>\n",
       "<table border=\"1\" class=\"dataframe\">\n",
       "  <thead>\n",
       "    <tr style=\"text-align: right;\">\n",
       "      <th></th>\n",
       "      <th>Respondent</th>\n",
       "      <th>Professional</th>\n",
       "      <th>ProgramHobby</th>\n",
       "      <th>Country</th>\n",
       "      <th>University</th>\n",
       "      <th>EmploymentStatus</th>\n",
       "      <th>FormalEducation</th>\n",
       "      <th>MajorUndergrad</th>\n",
       "      <th>HomeRemote</th>\n",
       "      <th>CompanySize</th>\n",
       "      <th>...</th>\n",
       "      <th>StackOverflowMakeMoney</th>\n",
       "      <th>Gender</th>\n",
       "      <th>HighestEducationParents</th>\n",
       "      <th>Race</th>\n",
       "      <th>SurveyLong</th>\n",
       "      <th>QuestionsInteresting</th>\n",
       "      <th>QuestionsConfusing</th>\n",
       "      <th>InterestedAnswers</th>\n",
       "      <th>Salary</th>\n",
       "      <th>ExpectedSalary</th>\n",
       "    </tr>\n",
       "  </thead>\n",
       "  <tbody>\n",
       "    <tr>\n",
       "      <th>51387</th>\n",
       "      <td>51388</td>\n",
       "      <td>Professional developer</td>\n",
       "      <td>Yes, I program as a hobby</td>\n",
       "      <td>United States</td>\n",
       "      <td>No</td>\n",
       "      <td>Employed full-time</td>\n",
       "      <td>Bachelor's degree</td>\n",
       "      <td>A social science</td>\n",
       "      <td>A few days each month</td>\n",
       "      <td>100 to 499 employees</td>\n",
       "      <td>...</td>\n",
       "      <td>Disagree</td>\n",
       "      <td>Male</td>\n",
       "      <td>A doctoral degree</td>\n",
       "      <td>East Asian; White or of European descent</td>\n",
       "      <td>Disagree</td>\n",
       "      <td>Agree</td>\n",
       "      <td>Strongly disagree</td>\n",
       "      <td>Strongly agree</td>\n",
       "      <td>58000.0</td>\n",
       "      <td>NaN</td>\n",
       "    </tr>\n",
       "    <tr>\n",
       "      <th>51388</th>\n",
       "      <td>51389</td>\n",
       "      <td>Student</td>\n",
       "      <td>No</td>\n",
       "      <td>Venezuela</td>\n",
       "      <td>Yes, full-time</td>\n",
       "      <td>Employed full-time</td>\n",
       "      <td>Master's degree</td>\n",
       "      <td>Computer programming or Web development</td>\n",
       "      <td>Never</td>\n",
       "      <td>100 to 499 employees</td>\n",
       "      <td>...</td>\n",
       "      <td>NaN</td>\n",
       "      <td>Male</td>\n",
       "      <td>A master's degree</td>\n",
       "      <td>Black or of African descent; Hispanic or Latin...</td>\n",
       "      <td>Somewhat agree</td>\n",
       "      <td>Agree</td>\n",
       "      <td>Disagree</td>\n",
       "      <td>Agree</td>\n",
       "      <td>NaN</td>\n",
       "      <td>NaN</td>\n",
       "    </tr>\n",
       "    <tr>\n",
       "      <th>51389</th>\n",
       "      <td>51390</td>\n",
       "      <td>Professional developer</td>\n",
       "      <td>Yes, I program as a hobby</td>\n",
       "      <td>Canada</td>\n",
       "      <td>No</td>\n",
       "      <td>Employed full-time</td>\n",
       "      <td>Some college/university study without earning ...</td>\n",
       "      <td>Information technology, networking, or system ...</td>\n",
       "      <td>Less than half the time, but at least one day ...</td>\n",
       "      <td>10 to 19 employees</td>\n",
       "      <td>...</td>\n",
       "      <td>NaN</td>\n",
       "      <td>NaN</td>\n",
       "      <td>NaN</td>\n",
       "      <td>NaN</td>\n",
       "      <td>NaN</td>\n",
       "      <td>NaN</td>\n",
       "      <td>NaN</td>\n",
       "      <td>NaN</td>\n",
       "      <td>NaN</td>\n",
       "      <td>NaN</td>\n",
       "    </tr>\n",
       "    <tr>\n",
       "      <th>51390</th>\n",
       "      <td>51391</td>\n",
       "      <td>Professional developer</td>\n",
       "      <td>Yes, I program as a hobby</td>\n",
       "      <td>United States</td>\n",
       "      <td>No</td>\n",
       "      <td>Employed full-time</td>\n",
       "      <td>Bachelor's degree</td>\n",
       "      <td>Computer science or software engineering</td>\n",
       "      <td>Never</td>\n",
       "      <td>Fewer than 10 employees</td>\n",
       "      <td>...</td>\n",
       "      <td>Disagree</td>\n",
       "      <td>Male</td>\n",
       "      <td>A bachelor's degree</td>\n",
       "      <td>White or of European descent</td>\n",
       "      <td>Disagree</td>\n",
       "      <td>Agree</td>\n",
       "      <td>Disagree</td>\n",
       "      <td>Strongly agree</td>\n",
       "      <td>40000.0</td>\n",
       "      <td>NaN</td>\n",
       "    </tr>\n",
       "    <tr>\n",
       "      <th>51391</th>\n",
       "      <td>51392</td>\n",
       "      <td>Professional non-developer who sometimes write...</td>\n",
       "      <td>No</td>\n",
       "      <td>Ireland</td>\n",
       "      <td>No</td>\n",
       "      <td>Employed full-time</td>\n",
       "      <td>Bachelor's degree</td>\n",
       "      <td>Computer science or software engineering</td>\n",
       "      <td>It's complicated</td>\n",
       "      <td>10,000 or more employees</td>\n",
       "      <td>...</td>\n",
       "      <td>Somewhat agree</td>\n",
       "      <td>Male</td>\n",
       "      <td>A bachelor's degree</td>\n",
       "      <td>White or of European descent</td>\n",
       "      <td>Somewhat agree</td>\n",
       "      <td>Strongly agree</td>\n",
       "      <td>Disagree</td>\n",
       "      <td>Strongly agree</td>\n",
       "      <td>NaN</td>\n",
       "      <td>NaN</td>\n",
       "    </tr>\n",
       "  </tbody>\n",
       "</table>\n",
       "<p>5 rows × 154 columns</p>\n",
       "</div>"
      ],
      "text/plain": [
       "       Respondent                                       Professional  \\\n",
       "51387       51388                             Professional developer   \n",
       "51388       51389                                            Student   \n",
       "51389       51390                             Professional developer   \n",
       "51390       51391                             Professional developer   \n",
       "51391       51392  Professional non-developer who sometimes write...   \n",
       "\n",
       "                    ProgramHobby        Country      University  \\\n",
       "51387  Yes, I program as a hobby  United States              No   \n",
       "51388                         No      Venezuela  Yes, full-time   \n",
       "51389  Yes, I program as a hobby         Canada              No   \n",
       "51390  Yes, I program as a hobby  United States              No   \n",
       "51391                         No        Ireland              No   \n",
       "\n",
       "         EmploymentStatus                                    FormalEducation  \\\n",
       "51387  Employed full-time                                  Bachelor's degree   \n",
       "51388  Employed full-time                                    Master's degree   \n",
       "51389  Employed full-time  Some college/university study without earning ...   \n",
       "51390  Employed full-time                                  Bachelor's degree   \n",
       "51391  Employed full-time                                  Bachelor's degree   \n",
       "\n",
       "                                          MajorUndergrad  \\\n",
       "51387                                   A social science   \n",
       "51388            Computer programming or Web development   \n",
       "51389  Information technology, networking, or system ...   \n",
       "51390           Computer science or software engineering   \n",
       "51391           Computer science or software engineering   \n",
       "\n",
       "                                              HomeRemote  \\\n",
       "51387                              A few days each month   \n",
       "51388                                              Never   \n",
       "51389  Less than half the time, but at least one day ...   \n",
       "51390                                              Never   \n",
       "51391                                   It's complicated   \n",
       "\n",
       "                    CompanySize  ... StackOverflowMakeMoney Gender  \\\n",
       "51387      100 to 499 employees  ...               Disagree   Male   \n",
       "51388      100 to 499 employees  ...                    NaN   Male   \n",
       "51389        10 to 19 employees  ...                    NaN    NaN   \n",
       "51390   Fewer than 10 employees  ...               Disagree   Male   \n",
       "51391  10,000 or more employees  ...         Somewhat agree   Male   \n",
       "\n",
       "      HighestEducationParents  \\\n",
       "51387       A doctoral degree   \n",
       "51388       A master's degree   \n",
       "51389                     NaN   \n",
       "51390     A bachelor's degree   \n",
       "51391     A bachelor's degree   \n",
       "\n",
       "                                                    Race      SurveyLong  \\\n",
       "51387           East Asian; White or of European descent        Disagree   \n",
       "51388  Black or of African descent; Hispanic or Latin...  Somewhat agree   \n",
       "51389                                                NaN             NaN   \n",
       "51390                       White or of European descent        Disagree   \n",
       "51391                       White or of European descent  Somewhat agree   \n",
       "\n",
       "      QuestionsInteresting QuestionsConfusing InterestedAnswers   Salary  \\\n",
       "51387                Agree  Strongly disagree    Strongly agree  58000.0   \n",
       "51388                Agree           Disagree             Agree      NaN   \n",
       "51389                  NaN                NaN               NaN      NaN   \n",
       "51390                Agree           Disagree    Strongly agree  40000.0   \n",
       "51391       Strongly agree           Disagree    Strongly agree      NaN   \n",
       "\n",
       "       ExpectedSalary  \n",
       "51387             NaN  \n",
       "51388             NaN  \n",
       "51389             NaN  \n",
       "51390             NaN  \n",
       "51391             NaN  \n",
       "\n",
       "[5 rows x 154 columns]"
      ]
     },
     "execution_count": 4,
     "metadata": {},
     "output_type": "execute_result"
    }
   ],
   "source": [
    "df.tail()"
   ]
  },
  {
   "cell_type": "code",
   "execution_count": 5,
   "id": "d96dbe69",
   "metadata": {},
   "outputs": [
    {
     "data": {
      "text/html": [
       "<div>\n",
       "<style scoped>\n",
       "    .dataframe tbody tr th:only-of-type {\n",
       "        vertical-align: middle;\n",
       "    }\n",
       "\n",
       "    .dataframe tbody tr th {\n",
       "        vertical-align: top;\n",
       "    }\n",
       "\n",
       "    .dataframe thead th {\n",
       "        text-align: right;\n",
       "    }\n",
       "</style>\n",
       "<table border=\"1\" class=\"dataframe\">\n",
       "  <thead>\n",
       "    <tr style=\"text-align: right;\">\n",
       "      <th></th>\n",
       "      <th>Respondent</th>\n",
       "      <th>CareerSatisfaction</th>\n",
       "      <th>JobSatisfaction</th>\n",
       "      <th>HoursPerWeek</th>\n",
       "      <th>StackOverflowSatisfaction</th>\n",
       "      <th>Salary</th>\n",
       "      <th>ExpectedSalary</th>\n",
       "    </tr>\n",
       "  </thead>\n",
       "  <tbody>\n",
       "    <tr>\n",
       "      <th>count</th>\n",
       "      <td>51392.000000</td>\n",
       "      <td>42695.000000</td>\n",
       "      <td>40376.000000</td>\n",
       "      <td>20600.000000</td>\n",
       "      <td>36592.000000</td>\n",
       "      <td>12891.000000</td>\n",
       "      <td>2566.000000</td>\n",
       "    </tr>\n",
       "    <tr>\n",
       "      <th>mean</th>\n",
       "      <td>25696.500000</td>\n",
       "      <td>7.300574</td>\n",
       "      <td>6.957078</td>\n",
       "      <td>3.952282</td>\n",
       "      <td>8.429875</td>\n",
       "      <td>56298.480641</td>\n",
       "      <td>33142.220468</td>\n",
       "    </tr>\n",
       "    <tr>\n",
       "      <th>std</th>\n",
       "      <td>14835.736854</td>\n",
       "      <td>1.955444</td>\n",
       "      <td>2.167652</td>\n",
       "      <td>7.564722</td>\n",
       "      <td>1.390635</td>\n",
       "      <td>39880.905277</td>\n",
       "      <td>30162.988829</td>\n",
       "    </tr>\n",
       "    <tr>\n",
       "      <th>min</th>\n",
       "      <td>1.000000</td>\n",
       "      <td>0.000000</td>\n",
       "      <td>0.000000</td>\n",
       "      <td>0.000000</td>\n",
       "      <td>0.000000</td>\n",
       "      <td>0.000000</td>\n",
       "      <td>0.000000</td>\n",
       "    </tr>\n",
       "    <tr>\n",
       "      <th>25%</th>\n",
       "      <td>12848.750000</td>\n",
       "      <td>6.000000</td>\n",
       "      <td>6.000000</td>\n",
       "      <td>1.000000</td>\n",
       "      <td>8.000000</td>\n",
       "      <td>26440.371839</td>\n",
       "      <td>4490.492484</td>\n",
       "    </tr>\n",
       "    <tr>\n",
       "      <th>50%</th>\n",
       "      <td>25696.500000</td>\n",
       "      <td>8.000000</td>\n",
       "      <td>7.000000</td>\n",
       "      <td>1.000000</td>\n",
       "      <td>9.000000</td>\n",
       "      <td>50000.000000</td>\n",
       "      <td>29364.263691</td>\n",
       "    </tr>\n",
       "    <tr>\n",
       "      <th>75%</th>\n",
       "      <td>38544.250000</td>\n",
       "      <td>9.000000</td>\n",
       "      <td>8.000000</td>\n",
       "      <td>4.000000</td>\n",
       "      <td>10.000000</td>\n",
       "      <td>80000.000000</td>\n",
       "      <td>50403.225806</td>\n",
       "    </tr>\n",
       "    <tr>\n",
       "      <th>max</th>\n",
       "      <td>51392.000000</td>\n",
       "      <td>10.000000</td>\n",
       "      <td>10.000000</td>\n",
       "      <td>40.000000</td>\n",
       "      <td>10.000000</td>\n",
       "      <td>197000.000000</td>\n",
       "      <td>187500.000000</td>\n",
       "    </tr>\n",
       "  </tbody>\n",
       "</table>\n",
       "</div>"
      ],
      "text/plain": [
       "         Respondent  CareerSatisfaction  JobSatisfaction  HoursPerWeek  \\\n",
       "count  51392.000000        42695.000000     40376.000000  20600.000000   \n",
       "mean   25696.500000            7.300574         6.957078      3.952282   \n",
       "std    14835.736854            1.955444         2.167652      7.564722   \n",
       "min        1.000000            0.000000         0.000000      0.000000   \n",
       "25%    12848.750000            6.000000         6.000000      1.000000   \n",
       "50%    25696.500000            8.000000         7.000000      1.000000   \n",
       "75%    38544.250000            9.000000         8.000000      4.000000   \n",
       "max    51392.000000           10.000000        10.000000     40.000000   \n",
       "\n",
       "       StackOverflowSatisfaction         Salary  ExpectedSalary  \n",
       "count               36592.000000   12891.000000     2566.000000  \n",
       "mean                    8.429875   56298.480641    33142.220468  \n",
       "std                     1.390635   39880.905277    30162.988829  \n",
       "min                     0.000000       0.000000        0.000000  \n",
       "25%                     8.000000   26440.371839     4490.492484  \n",
       "50%                     9.000000   50000.000000    29364.263691  \n",
       "75%                    10.000000   80000.000000    50403.225806  \n",
       "max                    10.000000  197000.000000   187500.000000  "
      ]
     },
     "execution_count": 5,
     "metadata": {},
     "output_type": "execute_result"
    }
   ],
   "source": [
    "df.describe()"
   ]
  },
  {
   "cell_type": "code",
   "execution_count": 6,
   "id": "fce7ea67",
   "metadata": {},
   "outputs": [
    {
     "data": {
      "text/plain": [
       "Index(['Respondent', 'Professional', 'ProgramHobby', 'Country', 'University',\n",
       "       'EmploymentStatus', 'FormalEducation', 'MajorUndergrad', 'HomeRemote',\n",
       "       'CompanySize',\n",
       "       ...\n",
       "       'StackOverflowMakeMoney', 'Gender', 'HighestEducationParents', 'Race',\n",
       "       'SurveyLong', 'QuestionsInteresting', 'QuestionsConfusing',\n",
       "       'InterestedAnswers', 'Salary', 'ExpectedSalary'],\n",
       "      dtype='object', length=154)"
      ]
     },
     "execution_count": 6,
     "metadata": {},
     "output_type": "execute_result"
    }
   ],
   "source": [
    "df.columns"
   ]
  },
  {
   "cell_type": "code",
   "execution_count": 6,
   "id": "2de73494",
   "metadata": {},
   "outputs": [
    {
     "data": {
      "text/plain": [
       "Respondent                int64\n",
       "Professional             object\n",
       "ProgramHobby             object\n",
       "Country                  object\n",
       "University               object\n",
       "                         ...   \n",
       "QuestionsInteresting     object\n",
       "QuestionsConfusing       object\n",
       "InterestedAnswers        object\n",
       "Salary                  float64\n",
       "ExpectedSalary          float64\n",
       "Length: 154, dtype: object"
      ]
     },
     "execution_count": 6,
     "metadata": {},
     "output_type": "execute_result"
    }
   ],
   "source": [
    "df.dtypes "
   ]
  },
  {
   "cell_type": "markdown",
   "id": "0f871dd1",
   "metadata": {},
   "source": [
    "# 3. Data cleaning\n",
    "\n",
    "The dataframe in Section 2 were cleaned in this section. Duplicate values were checked and removed.\n",
    "All the \"NAN\" value in the data were not drop at once cause this will affect the data significant.hence some column \"NAN\" will be replace by the mean of the data while some will be drop."
   ]
  },
  {
   "cell_type": "code",
   "execution_count": 6,
   "id": "fba99a8a",
   "metadata": {},
   "outputs": [
    {
     "data": {
      "text/plain": [
       "(51392, 154)"
      ]
     },
     "execution_count": 6,
     "metadata": {},
     "output_type": "execute_result"
    }
   ],
   "source": [
    "#check for the number of column and row in the data\n",
    "df.shape"
   ]
  },
  {
   "cell_type": "code",
   "execution_count": 7,
   "id": "65d76676",
   "metadata": {},
   "outputs": [
    {
     "data": {
      "text/plain": [
       "0        False\n",
       "1        False\n",
       "2        False\n",
       "3        False\n",
       "4        False\n",
       "         ...  \n",
       "51387    False\n",
       "51388    False\n",
       "51389    False\n",
       "51390    False\n",
       "51391    False\n",
       "Length: 51392, dtype: bool"
      ]
     },
     "execution_count": 7,
     "metadata": {},
     "output_type": "execute_result"
    }
   ],
   "source": [
    "#check for duplicate\n",
    "df.duplicated()"
   ]
  },
  {
   "cell_type": "code",
   "execution_count": 8,
   "id": "b93d1475",
   "metadata": {},
   "outputs": [
    {
     "data": {
      "text/plain": [
       "(51392, 154)"
      ]
     },
     "execution_count": 8,
     "metadata": {},
     "output_type": "execute_result"
    }
   ],
   "source": [
    "#drop duplicate\n",
    "df.drop_duplicates() \n",
    "df.shape"
   ]
  },
  {
   "cell_type": "code",
   "execution_count": 9,
   "id": "c2b11481",
   "metadata": {
    "scrolled": true
   },
   "outputs": [
    {
     "data": {
      "text/plain": [
       "Respondent              False\n",
       "Professional            False\n",
       "ProgramHobby            False\n",
       "Country                 False\n",
       "University              False\n",
       "                        ...  \n",
       "QuestionsInteresting     True\n",
       "QuestionsConfusing       True\n",
       "InterestedAnswers        True\n",
       "Salary                   True\n",
       "ExpectedSalary           True\n",
       "Length: 154, dtype: bool"
      ]
     },
     "execution_count": 9,
     "metadata": {},
     "output_type": "execute_result"
    }
   ],
   "source": [
    "#check for missing value \n",
    "df.isna().any()"
   ]
  },
  {
   "cell_type": "code",
   "execution_count": 10,
   "id": "88f5ba27",
   "metadata": {},
   "outputs": [
    {
     "data": {
      "text/plain": [
       "United States      11455\n",
       "India               5197\n",
       "United Kingdom      4395\n",
       "Germany             4143\n",
       "Canada              2233\n",
       "                   ...  \n",
       "Pitcairn Island        1\n",
       "French Guyana          1\n",
       "Gabon                  1\n",
       "Monaco                 1\n",
       "Saint Helena           1\n",
       "Name: Country, Length: 201, dtype: int64"
      ]
     },
     "execution_count": 10,
     "metadata": {},
     "output_type": "execute_result"
    }
   ],
   "source": [
    "#drop missing row in the column Country \n",
    "df[\"Country\"].isna()\n",
    "df.dropna(subset=['Country'], inplace=True)\n",
    "df[\"Country\"].value_counts()"
   ]
  },
  {
   "cell_type": "code",
   "execution_count": 11,
   "id": "056091bd",
   "metadata": {},
   "outputs": [],
   "source": [
    "#check for missing value in YearsProgram column and drop if there's any\n",
    "df['YearsProgram'].isna()\n",
    "df.dropna(subset=['YearsProgram'], inplace=True)\n"
   ]
  },
  {
   "cell_type": "code",
   "execution_count": 12,
   "id": "4906e6f0",
   "metadata": {},
   "outputs": [
    {
     "data": {
      "text/plain": [
       "0         56319.254916\n",
       "1         56319.254916\n",
       "2        113750.000000\n",
       "3         56319.254916\n",
       "4         56319.254916\n",
       "             ...      \n",
       "51387     58000.000000\n",
       "51388     56319.254916\n",
       "51389     56319.254916\n",
       "51390     40000.000000\n",
       "51391     56319.254916\n",
       "Name: Salary, Length: 51145, dtype: float64"
      ]
     },
     "execution_count": 12,
     "metadata": {},
     "output_type": "execute_result"
    }
   ],
   "source": [
    "#replace the \"NAN\" values in salaries with the average of the salary \n",
    "\n",
    "mean = df[\"Salary\"].mean()\n",
    "df[\"Salary\"].replace(np.nan, mean, inplace=True)\n",
    "df[\"Salary\"]"
   ]
  },
  {
   "cell_type": "code",
   "execution_count": 13,
   "id": "103a3a93",
   "metadata": {},
   "outputs": [],
   "source": [
    "#check for missing value in FormalEducation column \n",
    "df[\"FormalEducation\"].isna() \n",
    "df.dropna(subset=['FormalEducation'], inplace=True)\n"
   ]
  },
  {
   "cell_type": "code",
   "execution_count": 14,
   "id": "f95d37c7",
   "metadata": {},
   "outputs": [
    {
     "data": {
      "text/html": [
       "<div>\n",
       "<style scoped>\n",
       "    .dataframe tbody tr th:only-of-type {\n",
       "        vertical-align: middle;\n",
       "    }\n",
       "\n",
       "    .dataframe tbody tr th {\n",
       "        vertical-align: top;\n",
       "    }\n",
       "\n",
       "    .dataframe thead th {\n",
       "        text-align: right;\n",
       "    }\n",
       "</style>\n",
       "<table border=\"1\" class=\"dataframe\">\n",
       "  <thead>\n",
       "    <tr style=\"text-align: right;\">\n",
       "      <th></th>\n",
       "      <th>Respondent</th>\n",
       "      <th>Professional</th>\n",
       "      <th>ProgramHobby</th>\n",
       "      <th>Country</th>\n",
       "      <th>University</th>\n",
       "      <th>EmploymentStatus</th>\n",
       "      <th>FormalEducation</th>\n",
       "      <th>MajorUndergrad</th>\n",
       "      <th>HomeRemote</th>\n",
       "      <th>CompanySize</th>\n",
       "      <th>...</th>\n",
       "      <th>StackOverflowMakeMoney</th>\n",
       "      <th>Gender</th>\n",
       "      <th>HighestEducationParents</th>\n",
       "      <th>Race</th>\n",
       "      <th>SurveyLong</th>\n",
       "      <th>QuestionsInteresting</th>\n",
       "      <th>QuestionsConfusing</th>\n",
       "      <th>InterestedAnswers</th>\n",
       "      <th>Salary</th>\n",
       "      <th>ExpectedSalary</th>\n",
       "    </tr>\n",
       "  </thead>\n",
       "  <tbody>\n",
       "    <tr>\n",
       "      <th>3</th>\n",
       "      <td>4</td>\n",
       "      <td>Professional non-developer who sometimes write...</td>\n",
       "      <td>Yes, both</td>\n",
       "      <td>United States</td>\n",
       "      <td>No</td>\n",
       "      <td>Employed full-time</td>\n",
       "      <td>Doctoral degree</td>\n",
       "      <td>A non-computer-focused engineering discipline</td>\n",
       "      <td>Less than half the time, but at least one day ...</td>\n",
       "      <td>10,000 or more employees</td>\n",
       "      <td>...</td>\n",
       "      <td>Disagree</td>\n",
       "      <td>Male</td>\n",
       "      <td>A doctoral degree</td>\n",
       "      <td>White or of European descent</td>\n",
       "      <td>Agree</td>\n",
       "      <td>Agree</td>\n",
       "      <td>Somewhat agree</td>\n",
       "      <td>Strongly agree</td>\n",
       "      <td>56319.254916</td>\n",
       "      <td>NaN</td>\n",
       "    </tr>\n",
       "    <tr>\n",
       "      <th>6</th>\n",
       "      <td>7</td>\n",
       "      <td>Professional non-developer who sometimes write...</td>\n",
       "      <td>Yes, both</td>\n",
       "      <td>United States</td>\n",
       "      <td>No</td>\n",
       "      <td>Employed full-time</td>\n",
       "      <td>Master's degree</td>\n",
       "      <td>A non-computer-focused engineering discipline</td>\n",
       "      <td>Less than half the time, but at least one day ...</td>\n",
       "      <td>20 to 99 employees</td>\n",
       "      <td>...</td>\n",
       "      <td>Disagree</td>\n",
       "      <td>Male</td>\n",
       "      <td>A doctoral degree</td>\n",
       "      <td>White or of European descent</td>\n",
       "      <td>Disagree</td>\n",
       "      <td>Agree</td>\n",
       "      <td>Disagree</td>\n",
       "      <td>Agree</td>\n",
       "      <td>56319.254916</td>\n",
       "      <td>NaN</td>\n",
       "    </tr>\n",
       "    <tr>\n",
       "      <th>10</th>\n",
       "      <td>11</td>\n",
       "      <td>Professional non-developer who sometimes write...</td>\n",
       "      <td>Yes, I program as a hobby</td>\n",
       "      <td>United States</td>\n",
       "      <td>No</td>\n",
       "      <td>Employed full-time</td>\n",
       "      <td>Bachelor's degree</td>\n",
       "      <td>A social science</td>\n",
       "      <td>All or almost all the time (I'm full-time remote)</td>\n",
       "      <td>100 to 499 employees</td>\n",
       "      <td>...</td>\n",
       "      <td>Strongly disagree</td>\n",
       "      <td>Female</td>\n",
       "      <td>Some college/university study, no bachelor's d...</td>\n",
       "      <td>White or of European descent</td>\n",
       "      <td>Strongly disagree</td>\n",
       "      <td>Agree</td>\n",
       "      <td>Strongly disagree</td>\n",
       "      <td>Strongly agree</td>\n",
       "      <td>56319.254916</td>\n",
       "      <td>NaN</td>\n",
       "    </tr>\n",
       "    <tr>\n",
       "      <th>28</th>\n",
       "      <td>29</td>\n",
       "      <td>Professional non-developer who sometimes write...</td>\n",
       "      <td>Yes, both</td>\n",
       "      <td>Israel</td>\n",
       "      <td>No</td>\n",
       "      <td>Employed full-time</td>\n",
       "      <td>Some college/university study without earning ...</td>\n",
       "      <td>Computer engineering or electrical/electronics...</td>\n",
       "      <td>A few days each month</td>\n",
       "      <td>10 to 19 employees</td>\n",
       "      <td>...</td>\n",
       "      <td>Disagree</td>\n",
       "      <td>Male</td>\n",
       "      <td>A bachelor's degree</td>\n",
       "      <td>White or of European descent</td>\n",
       "      <td>Somewhat agree</td>\n",
       "      <td>Somewhat agree</td>\n",
       "      <td>Disagree</td>\n",
       "      <td>Agree</td>\n",
       "      <td>56319.254916</td>\n",
       "      <td>NaN</td>\n",
       "    </tr>\n",
       "    <tr>\n",
       "      <th>40</th>\n",
       "      <td>41</td>\n",
       "      <td>Professional non-developer who sometimes write...</td>\n",
       "      <td>Yes, both</td>\n",
       "      <td>United States</td>\n",
       "      <td>No</td>\n",
       "      <td>Employed full-time</td>\n",
       "      <td>Bachelor's degree</td>\n",
       "      <td>Computer engineering or electrical/electronics...</td>\n",
       "      <td>All or almost all the time (I'm full-time remote)</td>\n",
       "      <td>1,000 to 4,999 employees</td>\n",
       "      <td>...</td>\n",
       "      <td>Disagree</td>\n",
       "      <td>Male</td>\n",
       "      <td>A master's degree</td>\n",
       "      <td>White or of European descent</td>\n",
       "      <td>Somewhat agree</td>\n",
       "      <td>Somewhat agree</td>\n",
       "      <td>Disagree</td>\n",
       "      <td>Agree</td>\n",
       "      <td>56319.254916</td>\n",
       "      <td>NaN</td>\n",
       "    </tr>\n",
       "    <tr>\n",
       "      <th>...</th>\n",
       "      <td>...</td>\n",
       "      <td>...</td>\n",
       "      <td>...</td>\n",
       "      <td>...</td>\n",
       "      <td>...</td>\n",
       "      <td>...</td>\n",
       "      <td>...</td>\n",
       "      <td>...</td>\n",
       "      <td>...</td>\n",
       "      <td>...</td>\n",
       "      <td>...</td>\n",
       "      <td>...</td>\n",
       "      <td>...</td>\n",
       "      <td>...</td>\n",
       "      <td>...</td>\n",
       "      <td>...</td>\n",
       "      <td>...</td>\n",
       "      <td>...</td>\n",
       "      <td>...</td>\n",
       "      <td>...</td>\n",
       "      <td>...</td>\n",
       "    </tr>\n",
       "    <tr>\n",
       "      <th>51338</th>\n",
       "      <td>51339</td>\n",
       "      <td>Professional non-developer who sometimes write...</td>\n",
       "      <td>Yes, I program as a hobby</td>\n",
       "      <td>India</td>\n",
       "      <td>Yes, part-time</td>\n",
       "      <td>Employed full-time</td>\n",
       "      <td>Master's degree</td>\n",
       "      <td>Mathematics or statistics</td>\n",
       "      <td>A few days each month</td>\n",
       "      <td>100 to 499 employees</td>\n",
       "      <td>...</td>\n",
       "      <td>NaN</td>\n",
       "      <td>Male</td>\n",
       "      <td>Some college/university study, no bachelor's d...</td>\n",
       "      <td>NaN</td>\n",
       "      <td>Somewhat agree</td>\n",
       "      <td>Agree</td>\n",
       "      <td>Disagree</td>\n",
       "      <td>Agree</td>\n",
       "      <td>56319.254916</td>\n",
       "      <td>NaN</td>\n",
       "    </tr>\n",
       "    <tr>\n",
       "      <th>51339</th>\n",
       "      <td>51340</td>\n",
       "      <td>Professional non-developer who sometimes write...</td>\n",
       "      <td>Yes, I program as a hobby</td>\n",
       "      <td>India</td>\n",
       "      <td>Yes, part-time</td>\n",
       "      <td>Employed full-time</td>\n",
       "      <td>Bachelor's degree</td>\n",
       "      <td>Computer science or software engineering</td>\n",
       "      <td>A few days each month</td>\n",
       "      <td>10 to 19 employees</td>\n",
       "      <td>...</td>\n",
       "      <td>Disagree</td>\n",
       "      <td>Male</td>\n",
       "      <td>A bachelor's degree</td>\n",
       "      <td>NaN</td>\n",
       "      <td>NaN</td>\n",
       "      <td>NaN</td>\n",
       "      <td>NaN</td>\n",
       "      <td>NaN</td>\n",
       "      <td>56319.254916</td>\n",
       "      <td>NaN</td>\n",
       "    </tr>\n",
       "    <tr>\n",
       "      <th>51342</th>\n",
       "      <td>51343</td>\n",
       "      <td>Professional non-developer who sometimes write...</td>\n",
       "      <td>Yes, both</td>\n",
       "      <td>Saudi Arabia</td>\n",
       "      <td>Yes, part-time</td>\n",
       "      <td>Employed full-time</td>\n",
       "      <td>Some college/university study without earning ...</td>\n",
       "      <td>Information technology, networking, or system ...</td>\n",
       "      <td>About half the time</td>\n",
       "      <td>10 to 19 employees</td>\n",
       "      <td>...</td>\n",
       "      <td>Strongly disagree</td>\n",
       "      <td>Male</td>\n",
       "      <td>Some college/university study, no bachelor's d...</td>\n",
       "      <td>Middle Eastern</td>\n",
       "      <td>Somewhat agree</td>\n",
       "      <td>Agree</td>\n",
       "      <td>Disagree</td>\n",
       "      <td>Agree</td>\n",
       "      <td>56319.254916</td>\n",
       "      <td>NaN</td>\n",
       "    </tr>\n",
       "    <tr>\n",
       "      <th>51381</th>\n",
       "      <td>51382</td>\n",
       "      <td>Professional non-developer who sometimes write...</td>\n",
       "      <td>Yes, both</td>\n",
       "      <td>United States</td>\n",
       "      <td>No</td>\n",
       "      <td>Employed full-time</td>\n",
       "      <td>Doctoral degree</td>\n",
       "      <td>Psychology</td>\n",
       "      <td>More than half, but not all, the time</td>\n",
       "      <td>10,000 or more employees</td>\n",
       "      <td>...</td>\n",
       "      <td>Strongly disagree</td>\n",
       "      <td>Male</td>\n",
       "      <td>A bachelor's degree</td>\n",
       "      <td>White or of European descent</td>\n",
       "      <td>Somewhat agree</td>\n",
       "      <td>Strongly agree</td>\n",
       "      <td>Strongly disagree</td>\n",
       "      <td>Strongly agree</td>\n",
       "      <td>56319.254916</td>\n",
       "      <td>NaN</td>\n",
       "    </tr>\n",
       "    <tr>\n",
       "      <th>51391</th>\n",
       "      <td>51392</td>\n",
       "      <td>Professional non-developer who sometimes write...</td>\n",
       "      <td>No</td>\n",
       "      <td>Ireland</td>\n",
       "      <td>No</td>\n",
       "      <td>Employed full-time</td>\n",
       "      <td>Bachelor's degree</td>\n",
       "      <td>Computer science or software engineering</td>\n",
       "      <td>It's complicated</td>\n",
       "      <td>10,000 or more employees</td>\n",
       "      <td>...</td>\n",
       "      <td>Somewhat agree</td>\n",
       "      <td>Male</td>\n",
       "      <td>A bachelor's degree</td>\n",
       "      <td>White or of European descent</td>\n",
       "      <td>Somewhat agree</td>\n",
       "      <td>Strongly agree</td>\n",
       "      <td>Disagree</td>\n",
       "      <td>Strongly agree</td>\n",
       "      <td>56319.254916</td>\n",
       "      <td>NaN</td>\n",
       "    </tr>\n",
       "  </tbody>\n",
       "</table>\n",
       "<p>3161 rows × 154 columns</p>\n",
       "</div>"
      ],
      "text/plain": [
       "       Respondent                                       Professional  \\\n",
       "3               4  Professional non-developer who sometimes write...   \n",
       "6               7  Professional non-developer who sometimes write...   \n",
       "10             11  Professional non-developer who sometimes write...   \n",
       "28             29  Professional non-developer who sometimes write...   \n",
       "40             41  Professional non-developer who sometimes write...   \n",
       "...           ...                                                ...   \n",
       "51338       51339  Professional non-developer who sometimes write...   \n",
       "51339       51340  Professional non-developer who sometimes write...   \n",
       "51342       51343  Professional non-developer who sometimes write...   \n",
       "51381       51382  Professional non-developer who sometimes write...   \n",
       "51391       51392  Professional non-developer who sometimes write...   \n",
       "\n",
       "                    ProgramHobby        Country      University  \\\n",
       "3                      Yes, both  United States              No   \n",
       "6                      Yes, both  United States              No   \n",
       "10     Yes, I program as a hobby  United States              No   \n",
       "28                     Yes, both         Israel              No   \n",
       "40                     Yes, both  United States              No   \n",
       "...                          ...            ...             ...   \n",
       "51338  Yes, I program as a hobby          India  Yes, part-time   \n",
       "51339  Yes, I program as a hobby          India  Yes, part-time   \n",
       "51342                  Yes, both   Saudi Arabia  Yes, part-time   \n",
       "51381                  Yes, both  United States              No   \n",
       "51391                         No        Ireland              No   \n",
       "\n",
       "         EmploymentStatus                                    FormalEducation  \\\n",
       "3      Employed full-time                                    Doctoral degree   \n",
       "6      Employed full-time                                    Master's degree   \n",
       "10     Employed full-time                                  Bachelor's degree   \n",
       "28     Employed full-time  Some college/university study without earning ...   \n",
       "40     Employed full-time                                  Bachelor's degree   \n",
       "...                   ...                                                ...   \n",
       "51338  Employed full-time                                    Master's degree   \n",
       "51339  Employed full-time                                  Bachelor's degree   \n",
       "51342  Employed full-time  Some college/university study without earning ...   \n",
       "51381  Employed full-time                                    Doctoral degree   \n",
       "51391  Employed full-time                                  Bachelor's degree   \n",
       "\n",
       "                                          MajorUndergrad  \\\n",
       "3          A non-computer-focused engineering discipline   \n",
       "6          A non-computer-focused engineering discipline   \n",
       "10                                      A social science   \n",
       "28     Computer engineering or electrical/electronics...   \n",
       "40     Computer engineering or electrical/electronics...   \n",
       "...                                                  ...   \n",
       "51338                          Mathematics or statistics   \n",
       "51339           Computer science or software engineering   \n",
       "51342  Information technology, networking, or system ...   \n",
       "51381                                         Psychology   \n",
       "51391           Computer science or software engineering   \n",
       "\n",
       "                                              HomeRemote  \\\n",
       "3      Less than half the time, but at least one day ...   \n",
       "6      Less than half the time, but at least one day ...   \n",
       "10     All or almost all the time (I'm full-time remote)   \n",
       "28                                 A few days each month   \n",
       "40     All or almost all the time (I'm full-time remote)   \n",
       "...                                                  ...   \n",
       "51338                              A few days each month   \n",
       "51339                              A few days each month   \n",
       "51342                                About half the time   \n",
       "51381              More than half, but not all, the time   \n",
       "51391                                   It's complicated   \n",
       "\n",
       "                    CompanySize  ... StackOverflowMakeMoney  Gender  \\\n",
       "3      10,000 or more employees  ...               Disagree    Male   \n",
       "6            20 to 99 employees  ...               Disagree    Male   \n",
       "10         100 to 499 employees  ...      Strongly disagree  Female   \n",
       "28           10 to 19 employees  ...               Disagree    Male   \n",
       "40     1,000 to 4,999 employees  ...               Disagree    Male   \n",
       "...                         ...  ...                    ...     ...   \n",
       "51338      100 to 499 employees  ...                    NaN    Male   \n",
       "51339        10 to 19 employees  ...               Disagree    Male   \n",
       "51342        10 to 19 employees  ...      Strongly disagree    Male   \n",
       "51381  10,000 or more employees  ...      Strongly disagree    Male   \n",
       "51391  10,000 or more employees  ...         Somewhat agree    Male   \n",
       "\n",
       "                                 HighestEducationParents  \\\n",
       "3                                      A doctoral degree   \n",
       "6                                      A doctoral degree   \n",
       "10     Some college/university study, no bachelor's d...   \n",
       "28                                   A bachelor's degree   \n",
       "40                                     A master's degree   \n",
       "...                                                  ...   \n",
       "51338  Some college/university study, no bachelor's d...   \n",
       "51339                                A bachelor's degree   \n",
       "51342  Some college/university study, no bachelor's d...   \n",
       "51381                                A bachelor's degree   \n",
       "51391                                A bachelor's degree   \n",
       "\n",
       "                               Race         SurveyLong QuestionsInteresting  \\\n",
       "3      White or of European descent              Agree                Agree   \n",
       "6      White or of European descent           Disagree                Agree   \n",
       "10     White or of European descent  Strongly disagree                Agree   \n",
       "28     White or of European descent     Somewhat agree       Somewhat agree   \n",
       "40     White or of European descent     Somewhat agree       Somewhat agree   \n",
       "...                             ...                ...                  ...   \n",
       "51338                           NaN     Somewhat agree                Agree   \n",
       "51339                           NaN                NaN                  NaN   \n",
       "51342                Middle Eastern     Somewhat agree                Agree   \n",
       "51381  White or of European descent     Somewhat agree       Strongly agree   \n",
       "51391  White or of European descent     Somewhat agree       Strongly agree   \n",
       "\n",
       "      QuestionsConfusing InterestedAnswers        Salary  ExpectedSalary  \n",
       "3         Somewhat agree    Strongly agree  56319.254916             NaN  \n",
       "6               Disagree             Agree  56319.254916             NaN  \n",
       "10     Strongly disagree    Strongly agree  56319.254916             NaN  \n",
       "28              Disagree             Agree  56319.254916             NaN  \n",
       "40              Disagree             Agree  56319.254916             NaN  \n",
       "...                  ...               ...           ...             ...  \n",
       "51338           Disagree             Agree  56319.254916             NaN  \n",
       "51339                NaN               NaN  56319.254916             NaN  \n",
       "51342           Disagree             Agree  56319.254916             NaN  \n",
       "51381  Strongly disagree    Strongly agree  56319.254916             NaN  \n",
       "51391           Disagree    Strongly agree  56319.254916             NaN  \n",
       "\n",
       "[3161 rows x 154 columns]"
      ]
     },
     "execution_count": 14,
     "metadata": {},
     "output_type": "execute_result"
    }
   ],
   "source": [
    "#check for missing value in Gender and drop if any\n",
    "df[\"Gender\"].isna()\n",
    "df.dropna(subset=['Gender'], inplace=True)\n",
    "df.dropna(subset=['NonDeveloperType'])\n"
   ]
  },
  {
   "cell_type": "code",
   "execution_count": 15,
   "id": "c75fb57d",
   "metadata": {},
   "outputs": [
    {
     "data": {
      "text/html": [
       "<div>\n",
       "<style scoped>\n",
       "    .dataframe tbody tr th:only-of-type {\n",
       "        vertical-align: middle;\n",
       "    }\n",
       "\n",
       "    .dataframe tbody tr th {\n",
       "        vertical-align: top;\n",
       "    }\n",
       "\n",
       "    .dataframe thead th {\n",
       "        text-align: right;\n",
       "    }\n",
       "</style>\n",
       "<table border=\"1\" class=\"dataframe\">\n",
       "  <thead>\n",
       "    <tr style=\"text-align: right;\">\n",
       "      <th></th>\n",
       "      <th>Respondent</th>\n",
       "      <th>Professional</th>\n",
       "      <th>ProgramHobby</th>\n",
       "      <th>Country</th>\n",
       "      <th>University</th>\n",
       "      <th>EmploymentStatus</th>\n",
       "      <th>FormalEducation</th>\n",
       "      <th>MajorUndergrad</th>\n",
       "      <th>HomeRemote</th>\n",
       "      <th>CompanySize</th>\n",
       "      <th>...</th>\n",
       "      <th>StackOverflowMakeMoney</th>\n",
       "      <th>Gender</th>\n",
       "      <th>HighestEducationParents</th>\n",
       "      <th>Race</th>\n",
       "      <th>SurveyLong</th>\n",
       "      <th>QuestionsInteresting</th>\n",
       "      <th>QuestionsConfusing</th>\n",
       "      <th>InterestedAnswers</th>\n",
       "      <th>Salary</th>\n",
       "      <th>ExpectedSalary</th>\n",
       "    </tr>\n",
       "  </thead>\n",
       "  <tbody>\n",
       "    <tr>\n",
       "      <th>2</th>\n",
       "      <td>3</td>\n",
       "      <td>Professional developer</td>\n",
       "      <td>Yes, both</td>\n",
       "      <td>United Kingdom</td>\n",
       "      <td>No</td>\n",
       "      <td>Employed full-time</td>\n",
       "      <td>Bachelor's degree</td>\n",
       "      <td>Computer science or software engineering</td>\n",
       "      <td>Less than half the time, but at least one day ...</td>\n",
       "      <td>10,000 or more employees</td>\n",
       "      <td>...</td>\n",
       "      <td>Disagree</td>\n",
       "      <td>Male</td>\n",
       "      <td>A professional degree</td>\n",
       "      <td>White or of European descent</td>\n",
       "      <td>Somewhat agree</td>\n",
       "      <td>Agree</td>\n",
       "      <td>Disagree</td>\n",
       "      <td>Agree</td>\n",
       "      <td>113750.000000</td>\n",
       "      <td>NaN</td>\n",
       "    </tr>\n",
       "    <tr>\n",
       "      <th>7</th>\n",
       "      <td>8</td>\n",
       "      <td>Professional developer</td>\n",
       "      <td>Yes, both</td>\n",
       "      <td>Poland</td>\n",
       "      <td>No</td>\n",
       "      <td>Employed full-time</td>\n",
       "      <td>Master's degree</td>\n",
       "      <td>Computer science or software engineering</td>\n",
       "      <td>All or almost all the time (I'm full-time remote)</td>\n",
       "      <td>Fewer than 10 employees</td>\n",
       "      <td>...</td>\n",
       "      <td>Somewhat agree</td>\n",
       "      <td>Male</td>\n",
       "      <td>A master's degree</td>\n",
       "      <td>White or of European descent</td>\n",
       "      <td>Agree</td>\n",
       "      <td>Somewhat agree</td>\n",
       "      <td>Disagree</td>\n",
       "      <td>Agree</td>\n",
       "      <td>56319.254916</td>\n",
       "      <td>NaN</td>\n",
       "    </tr>\n",
       "    <tr>\n",
       "      <th>9</th>\n",
       "      <td>10</td>\n",
       "      <td>Professional developer</td>\n",
       "      <td>Yes, I program as a hobby</td>\n",
       "      <td>France</td>\n",
       "      <td>Yes, full-time</td>\n",
       "      <td>Independent contractor, freelancer, or self-em...</td>\n",
       "      <td>Master's degree</td>\n",
       "      <td>Computer science or software engineering</td>\n",
       "      <td>It's complicated</td>\n",
       "      <td>NaN</td>\n",
       "      <td>...</td>\n",
       "      <td>Disagree</td>\n",
       "      <td>Male</td>\n",
       "      <td>A doctoral degree</td>\n",
       "      <td>White or of European descent</td>\n",
       "      <td>Somewhat agree</td>\n",
       "      <td>Agree</td>\n",
       "      <td>Disagree</td>\n",
       "      <td>Agree</td>\n",
       "      <td>56319.254916</td>\n",
       "      <td>NaN</td>\n",
       "    </tr>\n",
       "    <tr>\n",
       "      <th>13</th>\n",
       "      <td>14</td>\n",
       "      <td>Professional developer</td>\n",
       "      <td>Yes, both</td>\n",
       "      <td>Germany</td>\n",
       "      <td>No</td>\n",
       "      <td>Employed full-time</td>\n",
       "      <td>Some college/university study without earning ...</td>\n",
       "      <td>Computer science or software engineering</td>\n",
       "      <td>Less than half the time, but at least one day ...</td>\n",
       "      <td>Fewer than 10 employees</td>\n",
       "      <td>...</td>\n",
       "      <td>Disagree</td>\n",
       "      <td>Female</td>\n",
       "      <td>A master's degree</td>\n",
       "      <td>Hispanic or Latino/Latina</td>\n",
       "      <td>Somewhat agree</td>\n",
       "      <td>Agree</td>\n",
       "      <td>Disagree</td>\n",
       "      <td>Strongly agree</td>\n",
       "      <td>56319.254916</td>\n",
       "      <td>NaN</td>\n",
       "    </tr>\n",
       "    <tr>\n",
       "      <th>17</th>\n",
       "      <td>18</td>\n",
       "      <td>Professional developer</td>\n",
       "      <td>Yes, both</td>\n",
       "      <td>United States</td>\n",
       "      <td>Yes, part-time</td>\n",
       "      <td>Employed full-time</td>\n",
       "      <td>Bachelor's degree</td>\n",
       "      <td>Computer science or software engineering</td>\n",
       "      <td>All or almost all the time (I'm full-time remote)</td>\n",
       "      <td>1,000 to 4,999 employees</td>\n",
       "      <td>...</td>\n",
       "      <td>Disagree</td>\n",
       "      <td>Male</td>\n",
       "      <td>A master's degree</td>\n",
       "      <td>Native American, Pacific Islander, or Indigeno...</td>\n",
       "      <td>Disagree</td>\n",
       "      <td>Agree</td>\n",
       "      <td>Disagree</td>\n",
       "      <td>Agree</td>\n",
       "      <td>130000.000000</td>\n",
       "      <td>NaN</td>\n",
       "    </tr>\n",
       "    <tr>\n",
       "      <th>...</th>\n",
       "      <td>...</td>\n",
       "      <td>...</td>\n",
       "      <td>...</td>\n",
       "      <td>...</td>\n",
       "      <td>...</td>\n",
       "      <td>...</td>\n",
       "      <td>...</td>\n",
       "      <td>...</td>\n",
       "      <td>...</td>\n",
       "      <td>...</td>\n",
       "      <td>...</td>\n",
       "      <td>...</td>\n",
       "      <td>...</td>\n",
       "      <td>...</td>\n",
       "      <td>...</td>\n",
       "      <td>...</td>\n",
       "      <td>...</td>\n",
       "      <td>...</td>\n",
       "      <td>...</td>\n",
       "      <td>...</td>\n",
       "      <td>...</td>\n",
       "    </tr>\n",
       "    <tr>\n",
       "      <th>51380</th>\n",
       "      <td>51381</td>\n",
       "      <td>Professional developer</td>\n",
       "      <td>Yes, I program as a hobby</td>\n",
       "      <td>United States</td>\n",
       "      <td>No</td>\n",
       "      <td>Employed full-time</td>\n",
       "      <td>Some college/university study without earning ...</td>\n",
       "      <td>Computer programming or Web development</td>\n",
       "      <td>More than half, but not all, the time</td>\n",
       "      <td>10,000 or more employees</td>\n",
       "      <td>...</td>\n",
       "      <td>NaN</td>\n",
       "      <td>Male</td>\n",
       "      <td>High school</td>\n",
       "      <td>White or of European descent</td>\n",
       "      <td>Agree</td>\n",
       "      <td>Somewhat agree</td>\n",
       "      <td>Disagree</td>\n",
       "      <td>Somewhat agree</td>\n",
       "      <td>56319.254916</td>\n",
       "      <td>NaN</td>\n",
       "    </tr>\n",
       "    <tr>\n",
       "      <th>51382</th>\n",
       "      <td>51383</td>\n",
       "      <td>Professional developer</td>\n",
       "      <td>Yes, I program as a hobby</td>\n",
       "      <td>France</td>\n",
       "      <td>No</td>\n",
       "      <td>Employed full-time</td>\n",
       "      <td>Master's degree</td>\n",
       "      <td>Computer science or software engineering</td>\n",
       "      <td>Never</td>\n",
       "      <td>100 to 499 employees</td>\n",
       "      <td>...</td>\n",
       "      <td>Disagree</td>\n",
       "      <td>Male</td>\n",
       "      <td>A master's degree</td>\n",
       "      <td>White or of European descent</td>\n",
       "      <td>Agree</td>\n",
       "      <td>Agree</td>\n",
       "      <td>Disagree</td>\n",
       "      <td>Somewhat agree</td>\n",
       "      <td>32258.064516</td>\n",
       "      <td>NaN</td>\n",
       "    </tr>\n",
       "    <tr>\n",
       "      <th>51384</th>\n",
       "      <td>51385</td>\n",
       "      <td>Professional developer</td>\n",
       "      <td>No</td>\n",
       "      <td>United States</td>\n",
       "      <td>No</td>\n",
       "      <td>Employed full-time</td>\n",
       "      <td>Bachelor's degree</td>\n",
       "      <td>Computer programming or Web development</td>\n",
       "      <td>Never</td>\n",
       "      <td>20 to 99 employees</td>\n",
       "      <td>...</td>\n",
       "      <td>Disagree</td>\n",
       "      <td>Male</td>\n",
       "      <td>A master's degree</td>\n",
       "      <td>White or of European descent</td>\n",
       "      <td>Somewhat agree</td>\n",
       "      <td>Agree</td>\n",
       "      <td>Disagree</td>\n",
       "      <td>Somewhat agree</td>\n",
       "      <td>56319.254916</td>\n",
       "      <td>NaN</td>\n",
       "    </tr>\n",
       "    <tr>\n",
       "      <th>51386</th>\n",
       "      <td>51387</td>\n",
       "      <td>Professional developer</td>\n",
       "      <td>Yes, both</td>\n",
       "      <td>Romania</td>\n",
       "      <td>No</td>\n",
       "      <td>Employed full-time</td>\n",
       "      <td>Some college/university study without earning ...</td>\n",
       "      <td>Something else</td>\n",
       "      <td>It's complicated</td>\n",
       "      <td>100 to 499 employees</td>\n",
       "      <td>...</td>\n",
       "      <td>Somewhat agree</td>\n",
       "      <td>Male</td>\n",
       "      <td>High school</td>\n",
       "      <td>White or of European descent</td>\n",
       "      <td>Agree</td>\n",
       "      <td>Agree</td>\n",
       "      <td>Disagree</td>\n",
       "      <td>Somewhat agree</td>\n",
       "      <td>56319.254916</td>\n",
       "      <td>NaN</td>\n",
       "    </tr>\n",
       "    <tr>\n",
       "      <th>51387</th>\n",
       "      <td>51388</td>\n",
       "      <td>Professional developer</td>\n",
       "      <td>Yes, I program as a hobby</td>\n",
       "      <td>United States</td>\n",
       "      <td>No</td>\n",
       "      <td>Employed full-time</td>\n",
       "      <td>Bachelor's degree</td>\n",
       "      <td>A social science</td>\n",
       "      <td>A few days each month</td>\n",
       "      <td>100 to 499 employees</td>\n",
       "      <td>...</td>\n",
       "      <td>Disagree</td>\n",
       "      <td>Male</td>\n",
       "      <td>A doctoral degree</td>\n",
       "      <td>East Asian; White or of European descent</td>\n",
       "      <td>Disagree</td>\n",
       "      <td>Agree</td>\n",
       "      <td>Strongly disagree</td>\n",
       "      <td>Strongly agree</td>\n",
       "      <td>58000.000000</td>\n",
       "      <td>NaN</td>\n",
       "    </tr>\n",
       "  </tbody>\n",
       "</table>\n",
       "<p>17733 rows × 154 columns</p>\n",
       "</div>"
      ],
      "text/plain": [
       "       Respondent            Professional               ProgramHobby  \\\n",
       "2               3  Professional developer                  Yes, both   \n",
       "7               8  Professional developer                  Yes, both   \n",
       "9              10  Professional developer  Yes, I program as a hobby   \n",
       "13             14  Professional developer                  Yes, both   \n",
       "17             18  Professional developer                  Yes, both   \n",
       "...           ...                     ...                        ...   \n",
       "51380       51381  Professional developer  Yes, I program as a hobby   \n",
       "51382       51383  Professional developer  Yes, I program as a hobby   \n",
       "51384       51385  Professional developer                         No   \n",
       "51386       51387  Professional developer                  Yes, both   \n",
       "51387       51388  Professional developer  Yes, I program as a hobby   \n",
       "\n",
       "              Country      University  \\\n",
       "2      United Kingdom              No   \n",
       "7              Poland              No   \n",
       "9              France  Yes, full-time   \n",
       "13            Germany              No   \n",
       "17      United States  Yes, part-time   \n",
       "...               ...             ...   \n",
       "51380   United States              No   \n",
       "51382          France              No   \n",
       "51384   United States              No   \n",
       "51386         Romania              No   \n",
       "51387   United States              No   \n",
       "\n",
       "                                        EmploymentStatus  \\\n",
       "2                                     Employed full-time   \n",
       "7                                     Employed full-time   \n",
       "9      Independent contractor, freelancer, or self-em...   \n",
       "13                                    Employed full-time   \n",
       "17                                    Employed full-time   \n",
       "...                                                  ...   \n",
       "51380                                 Employed full-time   \n",
       "51382                                 Employed full-time   \n",
       "51384                                 Employed full-time   \n",
       "51386                                 Employed full-time   \n",
       "51387                                 Employed full-time   \n",
       "\n",
       "                                         FormalEducation  \\\n",
       "2                                      Bachelor's degree   \n",
       "7                                        Master's degree   \n",
       "9                                        Master's degree   \n",
       "13     Some college/university study without earning ...   \n",
       "17                                     Bachelor's degree   \n",
       "...                                                  ...   \n",
       "51380  Some college/university study without earning ...   \n",
       "51382                                    Master's degree   \n",
       "51384                                  Bachelor's degree   \n",
       "51386  Some college/university study without earning ...   \n",
       "51387                                  Bachelor's degree   \n",
       "\n",
       "                                 MajorUndergrad  \\\n",
       "2      Computer science or software engineering   \n",
       "7      Computer science or software engineering   \n",
       "9      Computer science or software engineering   \n",
       "13     Computer science or software engineering   \n",
       "17     Computer science or software engineering   \n",
       "...                                         ...   \n",
       "51380   Computer programming or Web development   \n",
       "51382  Computer science or software engineering   \n",
       "51384   Computer programming or Web development   \n",
       "51386                            Something else   \n",
       "51387                          A social science   \n",
       "\n",
       "                                              HomeRemote  \\\n",
       "2      Less than half the time, but at least one day ...   \n",
       "7      All or almost all the time (I'm full-time remote)   \n",
       "9                                       It's complicated   \n",
       "13     Less than half the time, but at least one day ...   \n",
       "17     All or almost all the time (I'm full-time remote)   \n",
       "...                                                  ...   \n",
       "51380              More than half, but not all, the time   \n",
       "51382                                              Never   \n",
       "51384                                              Never   \n",
       "51386                                   It's complicated   \n",
       "51387                              A few days each month   \n",
       "\n",
       "                    CompanySize  ... StackOverflowMakeMoney  Gender  \\\n",
       "2      10,000 or more employees  ...               Disagree    Male   \n",
       "7       Fewer than 10 employees  ...         Somewhat agree    Male   \n",
       "9                           NaN  ...               Disagree    Male   \n",
       "13      Fewer than 10 employees  ...               Disagree  Female   \n",
       "17     1,000 to 4,999 employees  ...               Disagree    Male   \n",
       "...                         ...  ...                    ...     ...   \n",
       "51380  10,000 or more employees  ...                    NaN    Male   \n",
       "51382      100 to 499 employees  ...               Disagree    Male   \n",
       "51384        20 to 99 employees  ...               Disagree    Male   \n",
       "51386      100 to 499 employees  ...         Somewhat agree    Male   \n",
       "51387      100 to 499 employees  ...               Disagree    Male   \n",
       "\n",
       "      HighestEducationParents  \\\n",
       "2       A professional degree   \n",
       "7           A master's degree   \n",
       "9           A doctoral degree   \n",
       "13          A master's degree   \n",
       "17          A master's degree   \n",
       "...                       ...   \n",
       "51380             High school   \n",
       "51382       A master's degree   \n",
       "51384       A master's degree   \n",
       "51386             High school   \n",
       "51387       A doctoral degree   \n",
       "\n",
       "                                                    Race      SurveyLong  \\\n",
       "2                           White or of European descent  Somewhat agree   \n",
       "7                           White or of European descent           Agree   \n",
       "9                           White or of European descent  Somewhat agree   \n",
       "13                             Hispanic or Latino/Latina  Somewhat agree   \n",
       "17     Native American, Pacific Islander, or Indigeno...        Disagree   \n",
       "...                                                  ...             ...   \n",
       "51380                       White or of European descent           Agree   \n",
       "51382                       White or of European descent           Agree   \n",
       "51384                       White or of European descent  Somewhat agree   \n",
       "51386                       White or of European descent           Agree   \n",
       "51387           East Asian; White or of European descent        Disagree   \n",
       "\n",
       "      QuestionsInteresting QuestionsConfusing InterestedAnswers  \\\n",
       "2                    Agree           Disagree             Agree   \n",
       "7           Somewhat agree           Disagree             Agree   \n",
       "9                    Agree           Disagree             Agree   \n",
       "13                   Agree           Disagree    Strongly agree   \n",
       "17                   Agree           Disagree             Agree   \n",
       "...                    ...                ...               ...   \n",
       "51380       Somewhat agree           Disagree    Somewhat agree   \n",
       "51382                Agree           Disagree    Somewhat agree   \n",
       "51384                Agree           Disagree    Somewhat agree   \n",
       "51386                Agree           Disagree    Somewhat agree   \n",
       "51387                Agree  Strongly disagree    Strongly agree   \n",
       "\n",
       "              Salary  ExpectedSalary  \n",
       "2      113750.000000             NaN  \n",
       "7       56319.254916             NaN  \n",
       "9       56319.254916             NaN  \n",
       "13      56319.254916             NaN  \n",
       "17     130000.000000             NaN  \n",
       "...              ...             ...  \n",
       "51380   56319.254916             NaN  \n",
       "51382   32258.064516             NaN  \n",
       "51384   56319.254916             NaN  \n",
       "51386   56319.254916             NaN  \n",
       "51387   58000.000000             NaN  \n",
       "\n",
       "[17733 rows x 154 columns]"
      ]
     },
     "execution_count": 15,
     "metadata": {},
     "output_type": "execute_result"
    }
   ],
   "source": [
    "#drop missing value in \"MajorUndergrad\" and \"HaveWorkedLanguage\" column \n",
    "df.dropna(subset=['MajorUndergrad'], inplace=True)\n",
    "df.dropna(subset=['HaveWorkedLanguage'], inplace=True)\n",
    "df. dropna(subset=['EducationImportant'])"
   ]
  },
  {
   "cell_type": "code",
   "execution_count": 16,
   "id": "9980cef6",
   "metadata": {},
   "outputs": [],
   "source": [
    "df.dropna(subset=['CareerSatisfaction'], inplace=True)\n",
    "df.dropna(subset=['JobSatisfaction'], inplace=True)\n",
    "df.dropna(subset=['HoursPerWeek'], inplace=True)\n",
    "df.dropna(subset=['StackOverflowSatisfaction'], inplace=True)\n",
    "df.dropna(subset=['Salary'], inplace=True)"
   ]
  },
  {
   "cell_type": "markdown",
   "id": "bc3cd44d",
   "metadata": {},
   "source": [
    "# 4. Data Exploration\n",
    "\n",
    "In this section, the aim was to \n",
    "explore  and make adjustments to the data for further analysis. I also made use of MatPlotlib to visualize some task in this section.\n"
   ]
  },
  {
   "cell_type": "markdown",
   "id": "946c4cb0",
   "metadata": {},
   "source": [
    "# location geocoding\n",
    "\n",
    "For my final dashboard, I wanted to add a map that shows the developer data in each country. To do that, Tableau needs basic geographic information. To further retrive my longitude and Latitude data from each country, I made use of GEOPY, a library in python that takes a country name as input and produce the corresponding longitude and Latitude as output."
   ]
  },
  {
   "cell_type": "code",
   "execution_count": 175,
   "id": "a185e80e",
   "metadata": {},
   "outputs": [],
   "source": [
    "#from our data cleaning we see that United States has the highest number of count value\n",
    "#hence I replace all the row in the country column with data that can not be analize by \n",
    "#geopy to produce Latitude and Longitude with United States\n",
    "\n",
    "df.loc[df[\"Country\"] == \"I prefer not to say\" , \"Country\"] = \"United States\"\n",
    "df.loc[df[\"Country\"] == \"S. Georgia & S. Sandwich Isls.\" , \"Country\"] = \"United States\"\n",
    "df.loc[df[\"Country\"] == \"U.S. Minor Outlying Islands\" , \"Country\"] = \"United States\""
   ]
  },
  {
   "cell_type": "code",
   "execution_count": 176,
   "id": "65ea7881",
   "metadata": {
    "scrolled": false
   },
   "outputs": [],
   "source": [
    "#create an empty list that will house all the unique country name \n",
    "Country = []\n",
    "for country in df[\"Country\"].unique():\n",
    "    Country.append(country)\n",
    "\n",
    "#an empty list to house all the Longitude and Latitude details\n",
    "Longitude = []\n",
    "Latitude = []\n",
    "\n",
    "#geolocator for the each country longitude and Latitude details\n",
    "geolocator = Nominatim(user_agent=\"MyApp\")\n",
    "\n",
    "for country in Country:\n",
    "    location = geolocator.geocode(country)\n",
    "    Longitude.append(location.longitude)\n",
    "    Latitude.append(location.latitude)\n",
    "    \n",
    "\n"
   ]
  },
  {
   "cell_type": "code",
   "execution_count": 177,
   "id": "d3767e4c",
   "metadata": {},
   "outputs": [
    {
     "name": "stderr",
     "output_type": "stream",
     "text": [
      "/data/user/0/ru.iiec.pydroid3/cache/ipykernel_10906/4010197995.py:8: SettingWithCopyWarning: \n",
      "A value is trying to be set on a copy of a slice from a DataFrame\n",
      "\n",
      "See the caveats in the documentation: https://pandas.pydata.org/pandas-docs/stable/user_guide/indexing.html#returning-a-view-versus-a-copy\n",
      "  df[\"Longitude\"][index] = Longitude[count]\n",
      "/data/user/0/ru.iiec.pydroid3/cache/ipykernel_10906/4010197995.py:9: SettingWithCopyWarning: \n",
      "A value is trying to be set on a copy of a slice from a DataFrame\n",
      "\n",
      "See the caveats in the documentation: https://pandas.pydata.org/pandas-docs/stable/user_guide/indexing.html#returning-a-view-versus-a-copy\n",
      "  df[\"Latitude\"][index] = Latitude [count]\n"
     ]
    }
   ],
   "source": [
    "#create a longitude and latitude column in \n",
    "df.insert(4, 'Longitude', \" \")\n",
    "df.insert(5, 'Latitude', \" \")\n",
    "\n",
    "for count, country in enumerate(Country):\n",
    "    index_list=df.loc[df[\"Country\"]==country].index.tolist()\n",
    "    for index in index_list:\n",
    "        df[\"Longitude\"][index] = Longitude[count]\n",
    "        df[\"Latitude\"][index] = Latitude [count]\n",
    "        "
   ]
  },
  {
   "cell_type": "code",
   "execution_count": 178,
   "id": "3e4d8adb",
   "metadata": {
    "scrolled": true
   },
   "outputs": [
    {
     "data": {
      "text/html": [
       "<div>\n",
       "<style scoped>\n",
       "    .dataframe tbody tr th:only-of-type {\n",
       "        vertical-align: middle;\n",
       "    }\n",
       "\n",
       "    .dataframe tbody tr th {\n",
       "        vertical-align: top;\n",
       "    }\n",
       "\n",
       "    .dataframe thead th {\n",
       "        text-align: right;\n",
       "    }\n",
       "</style>\n",
       "<table border=\"1\" class=\"dataframe\">\n",
       "  <thead>\n",
       "    <tr style=\"text-align: right;\">\n",
       "      <th></th>\n",
       "      <th>Respondent</th>\n",
       "      <th>Professional</th>\n",
       "      <th>ProgramHobby</th>\n",
       "      <th>Country</th>\n",
       "      <th>Longitude</th>\n",
       "      <th>Latitude</th>\n",
       "      <th>University</th>\n",
       "      <th>EmploymentStatus</th>\n",
       "      <th>FormalEducation</th>\n",
       "      <th>MajorUndergrad</th>\n",
       "      <th>...</th>\n",
       "      <th>StackOverflowMakeMoney</th>\n",
       "      <th>Gender</th>\n",
       "      <th>HighestEducationParents</th>\n",
       "      <th>Race</th>\n",
       "      <th>SurveyLong</th>\n",
       "      <th>QuestionsInteresting</th>\n",
       "      <th>QuestionsConfusing</th>\n",
       "      <th>InterestedAnswers</th>\n",
       "      <th>Salary</th>\n",
       "      <th>ExpectedSalary</th>\n",
       "    </tr>\n",
       "  </thead>\n",
       "  <tbody>\n",
       "    <tr>\n",
       "      <th>3</th>\n",
       "      <td>4</td>\n",
       "      <td>Professional non-developer who sometimes write...</td>\n",
       "      <td>Yes, both</td>\n",
       "      <td>United States</td>\n",
       "      <td>-100.445882</td>\n",
       "      <td>39.78373</td>\n",
       "      <td>No</td>\n",
       "      <td>Employed full-time</td>\n",
       "      <td>Doctoral degree</td>\n",
       "      <td>A non-computer-focused engineering discipline</td>\n",
       "      <td>...</td>\n",
       "      <td>Disagree</td>\n",
       "      <td>Male</td>\n",
       "      <td>A doctoral degree</td>\n",
       "      <td>White or of European descent</td>\n",
       "      <td>Agree</td>\n",
       "      <td>Agree</td>\n",
       "      <td>Somewhat agree</td>\n",
       "      <td>Strongly agree</td>\n",
       "      <td>56319.254916</td>\n",
       "      <td>NaN</td>\n",
       "    </tr>\n",
       "    <tr>\n",
       "      <th>6</th>\n",
       "      <td>7</td>\n",
       "      <td>Professional non-developer who sometimes write...</td>\n",
       "      <td>Yes, both</td>\n",
       "      <td>United States</td>\n",
       "      <td>-100.445882</td>\n",
       "      <td>39.78373</td>\n",
       "      <td>No</td>\n",
       "      <td>Employed full-time</td>\n",
       "      <td>Master's degree</td>\n",
       "      <td>A non-computer-focused engineering discipline</td>\n",
       "      <td>...</td>\n",
       "      <td>Disagree</td>\n",
       "      <td>Male</td>\n",
       "      <td>A doctoral degree</td>\n",
       "      <td>White or of European descent</td>\n",
       "      <td>Disagree</td>\n",
       "      <td>Agree</td>\n",
       "      <td>Disagree</td>\n",
       "      <td>Agree</td>\n",
       "      <td>56319.254916</td>\n",
       "      <td>NaN</td>\n",
       "    </tr>\n",
       "    <tr>\n",
       "      <th>7</th>\n",
       "      <td>8</td>\n",
       "      <td>Professional developer</td>\n",
       "      <td>Yes, both</td>\n",
       "      <td>Poland</td>\n",
       "      <td>19.134422</td>\n",
       "      <td>52.215933</td>\n",
       "      <td>No</td>\n",
       "      <td>Employed full-time</td>\n",
       "      <td>Master's degree</td>\n",
       "      <td>Computer science or software engineering</td>\n",
       "      <td>...</td>\n",
       "      <td>Somewhat agree</td>\n",
       "      <td>Male</td>\n",
       "      <td>A master's degree</td>\n",
       "      <td>White or of European descent</td>\n",
       "      <td>Agree</td>\n",
       "      <td>Somewhat agree</td>\n",
       "      <td>Disagree</td>\n",
       "      <td>Agree</td>\n",
       "      <td>56319.254916</td>\n",
       "      <td>NaN</td>\n",
       "    </tr>\n",
       "    <tr>\n",
       "      <th>8</th>\n",
       "      <td>9</td>\n",
       "      <td>Professional developer</td>\n",
       "      <td>Yes, I program as a hobby</td>\n",
       "      <td>Colombia</td>\n",
       "      <td>-72.908813</td>\n",
       "      <td>4.099917</td>\n",
       "      <td>Yes, part-time</td>\n",
       "      <td>Employed full-time</td>\n",
       "      <td>Bachelor's degree</td>\n",
       "      <td>Computer science or software engineering</td>\n",
       "      <td>...</td>\n",
       "      <td>Strongly disagree</td>\n",
       "      <td>Male</td>\n",
       "      <td>A bachelor's degree</td>\n",
       "      <td>Hispanic or Latino/Latina</td>\n",
       "      <td>Somewhat agree</td>\n",
       "      <td>Strongly agree</td>\n",
       "      <td>Disagree</td>\n",
       "      <td>Strongly agree</td>\n",
       "      <td>56319.254916</td>\n",
       "      <td>NaN</td>\n",
       "    </tr>\n",
       "    <tr>\n",
       "      <th>9</th>\n",
       "      <td>10</td>\n",
       "      <td>Professional developer</td>\n",
       "      <td>Yes, I program as a hobby</td>\n",
       "      <td>France</td>\n",
       "      <td>1.888334</td>\n",
       "      <td>46.603354</td>\n",
       "      <td>Yes, full-time</td>\n",
       "      <td>Independent contractor, freelancer, or self-em...</td>\n",
       "      <td>Master's degree</td>\n",
       "      <td>Computer science or software engineering</td>\n",
       "      <td>...</td>\n",
       "      <td>Disagree</td>\n",
       "      <td>Male</td>\n",
       "      <td>A doctoral degree</td>\n",
       "      <td>White or of European descent</td>\n",
       "      <td>Somewhat agree</td>\n",
       "      <td>Agree</td>\n",
       "      <td>Disagree</td>\n",
       "      <td>Agree</td>\n",
       "      <td>56319.254916</td>\n",
       "      <td>NaN</td>\n",
       "    </tr>\n",
       "  </tbody>\n",
       "</table>\n",
       "<p>5 rows × 156 columns</p>\n",
       "</div>"
      ],
      "text/plain": [
       "   Respondent                                       Professional  \\\n",
       "3           4  Professional non-developer who sometimes write...   \n",
       "6           7  Professional non-developer who sometimes write...   \n",
       "7           8                             Professional developer   \n",
       "8           9                             Professional developer   \n",
       "9          10                             Professional developer   \n",
       "\n",
       "                ProgramHobby        Country   Longitude   Latitude  \\\n",
       "3                  Yes, both  United States -100.445882   39.78373   \n",
       "6                  Yes, both  United States -100.445882   39.78373   \n",
       "7                  Yes, both         Poland   19.134422  52.215933   \n",
       "8  Yes, I program as a hobby       Colombia  -72.908813   4.099917   \n",
       "9  Yes, I program as a hobby         France    1.888334  46.603354   \n",
       "\n",
       "       University                                   EmploymentStatus  \\\n",
       "3              No                                 Employed full-time   \n",
       "6              No                                 Employed full-time   \n",
       "7              No                                 Employed full-time   \n",
       "8  Yes, part-time                                 Employed full-time   \n",
       "9  Yes, full-time  Independent contractor, freelancer, or self-em...   \n",
       "\n",
       "     FormalEducation                                 MajorUndergrad  ...  \\\n",
       "3    Doctoral degree  A non-computer-focused engineering discipline  ...   \n",
       "6    Master's degree  A non-computer-focused engineering discipline  ...   \n",
       "7    Master's degree       Computer science or software engineering  ...   \n",
       "8  Bachelor's degree       Computer science or software engineering  ...   \n",
       "9    Master's degree       Computer science or software engineering  ...   \n",
       "\n",
       "  StackOverflowMakeMoney Gender HighestEducationParents  \\\n",
       "3               Disagree   Male       A doctoral degree   \n",
       "6               Disagree   Male       A doctoral degree   \n",
       "7         Somewhat agree   Male       A master's degree   \n",
       "8      Strongly disagree   Male     A bachelor's degree   \n",
       "9               Disagree   Male       A doctoral degree   \n",
       "\n",
       "                           Race      SurveyLong QuestionsInteresting  \\\n",
       "3  White or of European descent           Agree                Agree   \n",
       "6  White or of European descent        Disagree                Agree   \n",
       "7  White or of European descent           Agree       Somewhat agree   \n",
       "8     Hispanic or Latino/Latina  Somewhat agree       Strongly agree   \n",
       "9  White or of European descent  Somewhat agree                Agree   \n",
       "\n",
       "  QuestionsConfusing InterestedAnswers        Salary ExpectedSalary  \n",
       "3     Somewhat agree    Strongly agree  56319.254916            NaN  \n",
       "6           Disagree             Agree  56319.254916            NaN  \n",
       "7           Disagree             Agree  56319.254916            NaN  \n",
       "8           Disagree    Strongly agree  56319.254916            NaN  \n",
       "9           Disagree             Agree  56319.254916            NaN  \n",
       "\n",
       "[5 rows x 156 columns]"
      ]
     },
     "execution_count": 178,
     "metadata": {},
     "output_type": "execute_result"
    }
   ],
   "source": [
    "df.head()"
   ]
  },
  {
   "cell_type": "markdown",
   "id": "1dd17da0",
   "metadata": {},
   "source": [
    "# data exploratory visualization\n",
    "\n",
    "Before I proceed, it would be better to understand what the demographics i.e. country, age, gender, education level, employment level, etc. of the respondants look like."
   ]
  },
  {
   "cell_type": "code",
   "execution_count": 19,
   "id": "78179b37",
   "metadata": {},
   "outputs": [
    {
     "data": {
      "text/plain": [
       "['United States',\n",
       " 'India',\n",
       " 'United Kingdom',\n",
       " 'Germany',\n",
       " 'Canada',\n",
       " 'France',\n",
       " 'Poland',\n",
       " 'Australia',\n",
       " 'Russian Federation',\n",
       " 'Spain',\n",
       " 'Brazil',\n",
       " 'Netherlands',\n",
       " 'Italy',\n",
       " 'Sweden',\n",
       " 'Romania',\n",
       " 'Switzerland',\n",
       " 'Pakistan',\n",
       " 'Mexico',\n",
       " 'Iran',\n",
       " 'Ukraine',\n",
       " 'Belgium']"
      ]
     },
     "execution_count": 19,
     "metadata": {},
     "output_type": "execute_result"
    }
   ],
   "source": [
    "#Tree map to show the top 15 Countries\n",
    "\n",
    "top_country = df.groupby([\"Country\"])[\"Country\"].count().sort_values(ascending=False).reset_index(name='count')\n",
    "\n",
    "#get the name label of each top 20 Countries\n",
    "top_country_label = top_country.Country.tolist()[0:21]\n",
    "top_country_label\n",
    "\n"
   ]
  },
  {
   "cell_type": "code",
   "execution_count": 20,
   "id": "ce5ed183",
   "metadata": {},
   "outputs": [
    {
     "data": {
      "text/plain": [
       "[3002,\n",
       " 1100,\n",
       " 1048,\n",
       " 809,\n",
       " 537,\n",
       " 389,\n",
       " 317,\n",
       " 237,\n",
       " 233,\n",
       " 226,\n",
       " 214,\n",
       " 173,\n",
       " 172,\n",
       " 150,\n",
       " 135,\n",
       " 123,\n",
       " 111,\n",
       " 109,\n",
       " 99,\n",
       " 99]"
      ]
     },
     "execution_count": 20,
     "metadata": {},
     "output_type": "execute_result"
    }
   ],
   "source": [
    "#get the count value for each top 15 Countries\n",
    "top_country_count = list(top_country['count'])[0:20]\n",
    "top_country_count"
   ]
  },
  {
   "cell_type": "code",
   "execution_count": 30,
   "id": "aed609f4",
   "metadata": {},
   "outputs": [
    {
     "data": {
      "image/png": "[encoded data removed]",
      "text/plain": [
       "<Figure size 432x288 with 1 Axes>"
      ]
     },
     "metadata": {
      "needs_background": "light"
     },
     "output_type": "display_data"
    }
   ],
   "source": [
    "#plot the Treemap for the top 15 Countries of respondent\n",
    "\n",
    "squarify.plot(sizes=top_country_count,label=top_country_label, alpha=.8)\n",
    "plt.title(\"Tree map of Respondents Countries\")\n",
    "plt.axis('off')\n",
    "plt.show()"
   ]
  },
  {
   "cell_type": "raw",
   "id": "a8779da8",
   "metadata": {},
   "source": [
    "Hence from the Treemap diagram, it is evident that majority of developer/programmer are from the United States. "
   ]
  },
  {
   "cell_type": "code",
   "execution_count": 19,
   "id": "e0cfe6dc",
   "metadata": {},
   "outputs": [
    {
     "data": {
      "text/plain": [
       "YearsProgram\n",
       "20 or more years    2672\n",
       "9 to 10 years        893\n",
       "5 to 6 years         752\n",
       "4 to 5 years         721\n",
       "6 to 7 years         698\n",
       "7 to 8 years         619\n",
       "10 to 11 years       595\n",
       "14 to 15 years       565\n",
       "3 to 4 years         528\n",
       "8 to 9 years         477\n",
       "15 to 16 years       475\n",
       "2 to 3 years         461\n",
       "11 to 12 years       410\n",
       "12 to 13 years       385\n",
       "16 to 17 years       317\n",
       "13 to 14 years       316\n",
       "19 to 20 years       298\n",
       "1 to 2 years         264\n",
       "17 to 18 years       254\n",
       "18 to 19 years       188\n",
       "Less than a year     101\n",
       "Name: YearsProgram, dtype: int64"
      ]
     },
     "execution_count": 19,
     "metadata": {},
     "output_type": "execute_result"
    }
   ],
   "source": [
    "#bar chart to display Respondents and thier years of programming\n",
    "df_years_program = df.groupby([\"YearsProgram\" ])[\"YearsProgram\"].count().sort_values(ascending=False)\n",
    "df_years_program\n"
   ]
  },
  {
   "cell_type": "code",
   "execution_count": 20,
   "id": "d8ac9b55",
   "metadata": {
    "scrolled": true
   },
   "outputs": [
    {
     "data": {
      "image/png": "[encoded data removed]",
      "text/plain": [
       "<Figure size 432x288 with 1 Axes>"
      ]
     },
     "metadata": {
      "needs_background": "light"
     },
     "output_type": "display_data"
    }
   ],
   "source": [
    "# plt.Figure(figsize=(10,8))\n",
    "sns.barplot(x=df_years_program.index, y=df_years_program)\n",
    "plt.xticks(rotation=75)\n",
    "plt.xlabel(\"Years of Programming\")\n",
    "plt.ylabel(\"Numbers of respondents\")\n",
    "plt.show()"
   ]
  },
  {
   "cell_type": "markdown",
   "id": "f8c42539",
   "metadata": {},
   "source": [
    "From the bar chart, about 29000 Respondents from the survey has been coding for more than 20 years "
   ]
  },
  {
   "cell_type": "code",
   "execution_count": 184,
   "id": "fe0d5b50",
   "metadata": {
    "scrolled": true
   },
   "outputs": [
    {
     "name": "stderr",
     "output_type": "stream",
     "text": [
      "/data/user/0/ru.iiec.pydroid3/files/aarch64-linux-android/lib/python3.9/site-packages/matplotlib/bezier.py:216: RuntimeWarning: divide by zero encountered in power\n",
      "  return (np.power.outer(1 - t, self._orders[::-1])\n",
      "/data/user/0/ru.iiec.pydroid3/files/aarch64-linux-android/lib/python3.9/site-packages/matplotlib/bezier.py:217: RuntimeWarning: divide by zero encountered in power\n",
      "  * np.power.outer(t, self._orders)) @ self._px\n"
     ]
    },
    {
     "data": {
      "image/png": "[encoded data removed]",
      "text/plain": [
       "<Figure size 864x720 with 1 Axes>"
      ]
     },
     "metadata": {},
     "output_type": "display_data"
    }
   ],
   "source": [
    "#pie chart plot of Gender developers \n",
    "\n",
    "df_gender = df.groupby([\"Gender\"])[\"Gender\"].count()\n",
    "\n",
    "fig,ax1=plt.subplots(figsize=(12,10))\n",
    "plt.title(\"Gender of Respondants\")\n",
    "ax1.pie(df_gender, labels=df_gender.index)\n",
    "plt.legend(labels=df_gender.index, loc=\"upper right\", prop={\"size\":10})\n",
    "plt.show()"
   ]
  },
  {
   "cell_type": "code",
   "execution_count": 185,
   "id": "7239a7b5",
   "metadata": {},
   "outputs": [
    {
     "data": {
      "text/plain": [
       "Gender\n",
       "Female                                                       887\n",
       "Female; Gender non-conforming                                 13\n",
       "Female; Transgender                                           11\n",
       "Female; Transgender; Gender non-conforming                     2\n",
       "Gender non-conforming                                         35\n",
       "Gender non-conforming; Other                                   1\n",
       "Male                                                       11064\n",
       "Male; Female                                                   9\n",
       "Male; Female; Other                                            1\n",
       "Male; Female; Transgender                                      1\n",
       "Male; Female; Transgender; Gender non-conforming               3\n",
       "Male; Female; Transgender; Gender non-conforming; Other        5\n",
       "Male; Gender non-conforming                                   17\n",
       "Male; Other                                                   46\n",
       "Male; Transgender                                              2\n",
       "Male; Transgender; Other                                       1\n",
       "Other                                                         60\n",
       "Transgender                                                    9\n",
       "Transgender; Gender non-conforming                             2\n",
       "Name: Gender, dtype: int64"
      ]
     },
     "execution_count": 185,
     "metadata": {},
     "output_type": "execute_result"
    }
   ],
   "source": [
    "df_gender = df.groupby([\"Gender\"])[\"Gender\"].count()\n",
    "df_gender"
   ]
  },
  {
   "cell_type": "code",
   "execution_count": 32,
   "id": "edf187b5",
   "metadata": {},
   "outputs": [],
   "source": [
    "#made adjustments to the Gender qualities to better fit into our pie chart and for better analysis\n",
    "\n",
    "df[\"Gender\"] = df[\"Gender\" ].replace([\"Female; Gender non-conforming\" ],\"Female\")\n",
    "df[\"Gender\"] = df[\"Gender\" ].replace([\"Female; Gender non-conforming; Other\" ],\"Female\")\n",
    "df[\"Gender\"] = df[\"Gender\" ].replace([\"Female; Other\" ],\"Female\")\n",
    "df[\"Gender\"] = df[\"Gender\" ].replace([\"Female; Gender Transgender\" ],\"Transgender\")\n",
    "df[\"Gender\"] = df[\"Gender\" ].replace([\"Female; Transgender; Gender non-conforming\" ],\"Transgender\")\n",
    "df[\"Gender\"] = df[\"Gender\" ].replace([\"Female; Transgender\"  ],\"Transgender\")\n",
    "df[\"Gender\"] = df[\"Gender\" ].replace([\"Female; Transgender; Gender non-conforming; Other\" ],\"Transgender\")\n",
    "df[\"Gender\"] = df[\"Gender\" ].replace([\"Female; Transgender; Other\" ],\"Transgender\")\n",
    "df[\"Gender\"] = df[\"Gender\" ].replace([\"Gender non-conforming\" ],\"Other\")\n",
    "df[\"Gender\"] = df[\"Gender\" ].replace([\"Male; Female; Gender non-conforming\" ],\"Male\")\n",
    "df[\"Gender\"] = df[\"Gender\" ].replace([\"Male; Female\" ],\"Transgender\")\n",
    "df[\"Gender\"] = df[\"Gender\" ].replace([\"Male; Female; Gender non-conforming; Other\" ],\"Male\")\n",
    "df[\"Gender\"] = df[\"Gender\" ].replace([\"Male; Female; Other\" ],\"Transgender\")\n",
    "df[\"Gender\"] = df[\"Gender\" ].replace([\"Male; Female; Transgender\" ],\"Transgender\")\n",
    "df[\"Gender\"] = df[\"Gender\" ].replace([\"Gender non-conforming; Other\" ],\"Other\")\n",
    "df[\"Gender\"] = df[\"Gender\" ].replace([\"Male; Female; Transgender; Gender non-conforming\" ],\"Transgender\")\n",
    "df[\"Gender\"] = df[\"Gender\" ].replace([\"Male; Female; Transgender; Other\" ],\"Transgender\")\n",
    "df[\"Gender\"] = df[\"Gender\" ].replace([\"Male; Gender non-conforming; Other\" ],\"Male\")\n",
    "df[\"Gender\"] = df[\"Gender\" ].replace([\"Male; Other\" ],\"Male\")\n",
    "df[\"Gender\"] = df[\"Gender\" ].replace([\"Male; Transgender\" ],\"Transgender\")\n",
    "df[\"Gender\"] = df[\"Gender\" ].replace([\"Male; Transgender; Gender non-conforming\" ],\"Transgender\")\n",
    "df[\"Gender\"] = df[\"Gender\" ].replace([\"Male; Transgender; Other\" ],\"Transgender\")\n",
    "df[\"Gender\"] = df[\"Gender\" ].replace([\"Transgender; Gender non-conforming\" ],\"Transgender\")\n",
    "df[\"Gender\"] = df[\"Gender\" ].replace([\"Transgender; Other\" ],\"Other\")\n",
    "df[\"Gender\"] = df[\"Gender\" ].replace([\"Male; Female; Transgender; Gender non-conforming; Other\" ],\"Transgender\")\n",
    "df[\"Gender\"] = df[\"Gender\" ].replace([\"Male; Gender non-conforming\" ],\"Male\")\n"
   ]
  },
  {
   "cell_type": "code",
   "execution_count": 33,
   "id": "ab1bb508",
   "metadata": {},
   "outputs": [
    {
     "data": {
      "text/plain": [
       "Gender\n",
       "Female           881\n",
       "Male           10968\n",
       "Other             94\n",
       "Transgender       46\n",
       "Name: Gender, dtype: int64"
      ]
     },
     "execution_count": 33,
     "metadata": {},
     "output_type": "execute_result"
    }
   ],
   "source": [
    "df_gender = df.groupby([\"Gender\"])[\"Gender\"].count()\n",
    "df_gender"
   ]
  },
  {
   "cell_type": "code",
   "execution_count": 38,
   "id": "c123ad78",
   "metadata": {
    "scrolled": true
   },
   "outputs": [
    {
     "data": {
      "image/png": "[encoded data removed]",
      "text/plain": [
       "<Figure size 576x432 with 1 Axes>"
      ]
     },
     "metadata": {},
     "output_type": "display_data"
    }
   ],
   "source": [
    "#pie chart plot of Gender developers \n",
    "\n",
    "df_gender = df.groupby([\"Gender\"])[\"Gender\"].count()\n",
    "\n",
    "fig,ax1=plt.subplots(figsize=(8,6))\n",
    "plt.title(\"Gender of Respondents\")\n",
    "ax1.pie(df_gender, labels=df_gender.index, autopct='%1.1f%%', shadow=True, explode=(0,0.1,0.2,0.3), startangle=180)\n",
    "plt.legend(labels=df_gender.index, loc=\"upper right\", prop={\"size\":10})\n",
    "plt.show()"
   ]
  },
  {
   "cell_type": "markdown",
   "id": "ab163f41",
   "metadata": {},
   "source": [
    "This clearly shows that a vast majority that is 90.4% are male programer and the second are female programmer with 8.2%."
   ]
  },
  {
   "cell_type": "code",
   "execution_count": 12,
   "id": "94b73337",
   "metadata": {},
   "outputs": [
    {
     "data": {
      "text/plain": [
       "FormalEducation\n",
       "Bachelor's degree                                                    6160\n",
       "Master's degree                                                      3253\n",
       "Some college/university study without earning a bachelor's degree    2028\n",
       "Doctoral degree                                                       373\n",
       "Professional degree                                                   174\n",
       "Secondary school                                                        1\n",
       "Name: FormalEducation, dtype: int64"
      ]
     },
     "execution_count": 12,
     "metadata": {},
     "output_type": "execute_result"
    }
   ],
   "source": [
    "#formal Education\n",
    "df_formal_Edu = df.groupby([\"FormalEducation\" ])[\"FormalEducation\" ].count().sort_values(ascending=False)\n",
    "df_formal_Edu"
   ]
  },
  {
   "cell_type": "code",
   "execution_count": 17,
   "id": "d8387af1",
   "metadata": {},
   "outputs": [
    {
     "data": {
      "image/png": "[encoded data removed]",
      "text/plain": [
       "<Figure size 432x288 with 1 Axes>"
      ]
     },
     "metadata": {
      "needs_background": "light"
     },
     "output_type": "display_data"
    }
   ],
   "source": [
    "plt.Figure(figsize=(16,8))\n",
    "sns.barplot(x=df_formal_Edu, y=df_formal_Edu.index)\n",
    "plt.xticks(rotation=75)\n",
    "plt.xlabel(\"Number of Respondents\")\n",
    "plt.ylabel(\"Formal Education\")\n",
    "plt.title(\"Formal Education of Respondents\")\n",
    "plt.show()"
   ]
  },
  {
   "cell_type": "code",
   "execution_count": 18,
   "id": "167638ae",
   "metadata": {},
   "outputs": [
    {
     "data": {
      "text/plain": [
       "MajorUndergrad\n",
       "Computer science or software engineering                        6064\n",
       "Computer engineering or electrical/electronics engineering      1238\n",
       "Computer programming or Web development                          974\n",
       "Information technology, networking, or system administration     579\n",
       "A natural science                                                529\n",
       "A non-computer-focused engineering discipline                    502\n",
       "Mathematics or statistics                                        481\n",
       "Something else                                                   289\n",
       "A humanities discipline                                          266\n",
       "A business discipline                                            234\n",
       "Fine arts or performing arts                                     212\n",
       "A social science                                                 204\n",
       "Management information systems                                   176\n",
       "I never declared a major                                         154\n",
       "Psychology                                                        59\n",
       "A health science                                                  28\n",
       "Name: MajorUndergrad, dtype: int64"
      ]
     },
     "execution_count": 18,
     "metadata": {},
     "output_type": "execute_result"
    }
   ],
   "source": [
    "#plot of an horizontal bar chart to show the Undergraduate Major studied by most of the respondents \n",
    "df_major = df.groupby([\"MajorUndergrad\" ])[\"MajorUndergrad\" ].count().sort_values(ascending=False)\n",
    "df_major"
   ]
  },
  {
   "cell_type": "code",
   "execution_count": 20,
   "id": "324c4a24",
   "metadata": {
    "scrolled": true
   },
   "outputs": [
    {
     "data": {
      "image/png": "[encoded data removed]",
      "text/plain": [
       "<Figure size 432x288 with 1 Axes>"
      ]
     },
     "metadata": {
      "needs_background": "light"
     },
     "output_type": "display_data"
    }
   ],
   "source": [
    "plt.Figure(figsize=(16,8))\n",
    "sns.barplot(x=df_major, y=df_major.index)\n",
    "plt.xticks(rotation=75)\n",
    "plt.xlabel(\"Number of Respondents\")\n",
    "plt.ylabel(\"Undergraduate Major\")\n",
    "plt.title(\"primary field of  Respondents study\")\n",
    "plt.show()"
   ]
  },
  {
   "cell_type": "markdown",
   "id": "0ea6e511",
   "metadata": {},
   "source": [
    "large number of Respondents that took the survey did a major in computer science or software engineering"
   ]
  },
  {
   "cell_type": "code",
   "execution_count": 4,
   "id": "cff4915b",
   "metadata": {},
   "outputs": [
    {
     "data": {
      "text/plain": [
       "EducationImportant\n",
       "Somewhat important      5250\n",
       "Important               4976\n",
       "Not very important      3773\n",
       "Very important          3133\n",
       "Not at all important    1713\n",
       "Name: EducationImportant, dtype: int64"
      ]
     },
     "execution_count": 4,
     "metadata": {},
     "output_type": "execute_result"
    }
   ],
   "source": [
    "#importance of Education\n",
    "df_Edu = df.groupby([\"EducationImportant\" ])[\"EducationImportant\" ].count().sort_values(ascending=False)\n",
    "df_Edu"
   ]
  },
  {
   "cell_type": "code",
   "execution_count": 5,
   "id": "8bf36ac7",
   "metadata": {},
   "outputs": [
    {
     "data": {
      "image/png": "[encoded data removed]",
      "text/plain": [
       "<Figure size 432x288 with 1 Axes>"
      ]
     },
     "metadata": {
      "needs_background": "light"
     },
     "output_type": "display_data"
    }
   ],
   "source": [
    "plt.Figure(figsize=(16,8))\n",
    "sns.barplot(x=df_Edu.index, y=df_Edu)\n",
    "plt.xticks(rotation=75)\n",
    "plt.xlabel(\"importance of Education\")\n",
    "plt.ylabel(\"Number of Respondents\")\n",
    "plt.title(\"importance of Education\")\n",
    "plt.show()"
   ]
  },
  {
   "cell_type": "code",
   "execution_count": 30,
   "id": "c702746e",
   "metadata": {
    "scrolled": false
   },
   "outputs": [
    {
     "data": {
      "text/plain": [
       "HaveWorkedLanguage\n",
       "C#; JavaScript; SQL      548\n",
       "JavaScript; PHP; SQL     428\n",
       "Java                     300\n",
       "Java; JavaScript; SQL    249\n",
       "JavaScript               228\n",
       "JavaScript; PHP          219\n",
       "Java; JavaScript         205\n",
       "C#; SQL                  191\n",
       "C#; JavaScript           182\n",
       "C#                       174\n",
       "Name: HaveWorkedLanguage, dtype: int64"
      ]
     },
     "execution_count": 30,
     "metadata": {},
     "output_type": "execute_result"
    }
   ],
   "source": [
    "#vertical plot to show the most popular language used by respondents\n",
    "df_language = df.groupby([\"HaveWorkedLanguage\" ])[\"HaveWorkedLanguage\" ].count().sort_values(ascending=False)\n",
    "df_porpular_language = df_language[0:10]\n",
    "df_porpular_language"
   ]
  },
  {
   "cell_type": "code",
   "execution_count": 60,
   "id": "ca77d469",
   "metadata": {},
   "outputs": [
    {
     "data": {
      "text/plain": [
       "HaveWorkedLanguage\n",
       "C++; C#; JavaScript; Python; TypeScript                           194000.000000\n",
       "C; Java; JavaScript; R                                            184000.000000\n",
       "Clojure; Erlang; Haskell; Java; Python; Rust; Scala               180000.000000\n",
       "C#; Java; JavaScript; Python; Scala; SQL                          180000.000000\n",
       "C#; JavaScript; Objective-C; R; SQL; TypeScript                   175000.000000\n",
       "C; C#; Julia                                                      175000.000000\n",
       "C++; JavaScript; Lua; Python                                      175000.000000\n",
       "C#; Go; Java; JavaScript; Objective-C; Python; SQL; TypeScript    173716.668114\n",
       "Assembly; C; C++; Java; JavaScript; Perl; Python; SQL             170000.000000\n",
       "C++; C#; Java; JavaScript; Matlab; Objective-C; Python; Ruby      170000.000000\n",
       "Name: Salary, dtype: float64"
      ]
     },
     "execution_count": 60,
     "metadata": {},
     "output_type": "execute_result"
    }
   ],
   "source": [
    "#plot language used by developer the most\n",
    "df_s = df.groupby([\"HaveWorkedLanguage\" ])[\"Salary\" ].mean().sort_values(ascending=False)\n",
    "df_salary = df_s[0:10]\n",
    "df_salary"
   ]
  },
  {
   "cell_type": "code",
   "execution_count": 59,
   "id": "f39b5cc3",
   "metadata": {
    "scrolled": true
   },
   "outputs": [
    {
     "data": {
      "image/png": "[encoded data removed]",
      "text/plain": [
       "<Figure size 432x288 with 1 Axes>"
      ]
     },
     "metadata": {
      "needs_background": "light"
     },
     "output_type": "display_data"
    }
   ],
   "source": [
    "#plt.Figure(figsize=(16,8))\n",
    "sns.barplot(x=df_porpular_language.index, y=df_porpular_language)\n",
    "plt.xticks(rotation=75)\n",
    "plt.xlabel(\"popular language\" )\n",
    "plt.ylabel(\"Number of Respondents\")\n",
    "plt.title(\"popular language used by Respondents\")\n",
    "plt.show()"
   ]
  },
  {
   "cell_type": "code",
   "execution_count": 32,
   "id": "b4e554e7",
   "metadata": {},
   "outputs": [
    {
     "data": {
      "text/plain": [
       "HaveWorkedLanguage\n",
       "Python                      57\n",
       "JavaScript; PHP; SQL        31\n",
       "R                           27\n",
       "Python; SQL                 24\n",
       "SQL                         22\n",
       "JavaScript; PHP             21\n",
       "Java                        19\n",
       "Python; R; SQL              18\n",
       "Python; R                   17\n",
       "JavaScript; Python; SQL     15\n",
       "JavaScript; Python          14\n",
       "JavaScript                  14\n",
       "R; SQL                      13\n",
       "C#                          11\n",
       "Java; JavaScript            11\n",
       "C#; JavaScript; SQL         10\n",
       "PHP                         10\n",
       "Java; JavaScript; SQL       10\n",
       "C#; JavaScript              10\n",
       "Java; JavaScript; Python     9\n",
       "Name: NonDeveloperType, dtype: int64"
      ]
     },
     "execution_count": 32,
     "metadata": {},
     "output_type": "execute_result"
    }
   ],
   "source": [
    "#Language used by non - developers the most \n",
    "df_no = df.groupby([\"HaveWorkedLanguage\" ])[\"NonDeveloperType\" ].count().sort_values(ascending=False)\n",
    "df_non = df_no[0:20]\n",
    "df_non"
   ]
  },
  {
   "cell_type": "code",
   "execution_count": 33,
   "id": "e60f1e5b",
   "metadata": {},
   "outputs": [
    {
     "data": {
      "image/png": "[encoded data removed]",
      "text/plain": [
       "<Figure size 432x288 with 1 Axes>"
      ]
     },
     "metadata": {
      "needs_background": "light"
     },
     "output_type": "display_data"
    }
   ],
   "source": [
    "sns.barplot(x=df_non, y=df_non.index)\n",
    "plt.xticks(rotation=75)\n",
    "plt.xlabel(\"Numbers of Respondents\" )\n",
    "plt.ylabel(\"language used by Data scientist/analyst\")\n",
    "plt.title(\"Language often used by Data scientist/analyst\" )\n",
    "plt.show()"
   ]
  },
  {
   "cell_type": "code",
   "execution_count": 23,
   "id": "fa9aa768",
   "metadata": {},
   "outputs": [
    {
     "data": {
      "text/plain": [
       "HaveWorkedLanguage\n",
       "C++; C#; JavaScript; Python; TypeScript                           194000.000000\n",
       "C; Java; JavaScript; R                                            184000.000000\n",
       "Clojure; Erlang; Haskell; Java; Python; Rust; Scala               180000.000000\n",
       "C#; Java; JavaScript; Python; Scala; SQL                          180000.000000\n",
       "C#; JavaScript; Objective-C; R; SQL; TypeScript                   175000.000000\n",
       "C; C#; Julia                                                      175000.000000\n",
       "C++; JavaScript; Lua; Python                                      175000.000000\n",
       "C#; Go; Java; JavaScript; Objective-C; Python; SQL; TypeScript    173716.668114\n",
       "Assembly; C; C++; Java; JavaScript; Perl; Python; SQL             170000.000000\n",
       "C++; C#; Java; JavaScript; Matlab; Objective-C; Python; Ruby      170000.000000\n",
       "C++; Java; JavaScript; Perl; Python; SQL                          170000.000000\n",
       "Assembly; C; C++; Objective-C; Perl; Python; Ruby                 168000.000000\n",
       "C#; Python; Swift                                                 166500.000000\n",
       "C; C++; Common Lisp; Clojure; JavaScript                          165000.000000\n",
       "Haskell; JavaScript; Python                                       160000.000000\n",
       "Name: Salary, dtype: float64"
      ]
     },
     "execution_count": 23,
     "metadata": {},
     "output_type": "execute_result"
    }
   ],
   "source": [
    "#Average salary based on programming language\n",
    "df_s = df.groupby([\"HaveWorkedLanguage\" ])[\"Salary\" ].mean().sort_values(ascending=False)\n",
    "df_salary = df_s[0:15]\n",
    "df_salary"
   ]
  },
  {
   "cell_type": "code",
   "execution_count": 24,
   "id": "97bd6f15",
   "metadata": {},
   "outputs": [
    {
     "data": {
      "image/png": "[encoded data removed]",
      "text/plain": [
       "<Figure size 432x288 with 1 Axes>"
      ]
     },
     "metadata": {
      "needs_background": "light"
     },
     "output_type": "display_data"
    }
   ],
   "source": [
    "sns.barplot(x=df_salary, y=df_salary.index)\n",
    "plt.xticks(rotation=75)\n",
    "plt.xlabel(\"Average Salaries of  Resondents\")\n",
    "plt.ylabel(\"Language\")\n",
    "plt.title(\"Average Salaries based on Language\")\n",
    "plt.show()"
   ]
  },
  {
   "cell_type": "code",
   "execution_count": 191,
   "id": "7c1b1762",
   "metadata": {},
   "outputs": [
    {
     "data": {
      "image/png": "[encoded data removed]",
      "text/plain": [
       "<Figure size 432x288 with 1 Axes>"
      ]
     },
     "metadata": {
      "needs_background": "light"
     },
     "output_type": "display_data"
    }
   ],
   "source": [
    "#Perform a world cloud analysis on StackOverflowDescribes column \n",
    "text=''.join(df['StackOverflowDescribes'])\n",
    "stopwords = set(STOPWORDS)\n",
    "# Generate a word cloud image\n",
    "wordcloud = WordCloud(width = 3000, height = 2000, random_state=1, background_color='black', colormap='Set2', collocations=False, stopwords = STOPWORDS).generate(text)\n",
    "# Display the generated image\n",
    "plt.imshow(wordcloud, interpolation='bilinear')\n",
    "plt.axis(\"off\")\n",
    "plt.show()"
   ]
  },
  {
   "cell_type": "markdown",
   "id": "5395c27b",
   "metadata": {},
   "source": [
    "# 5 Model Development\n",
    "\n",
    "In this section, we are going to predict salaries of developers base on different variable that could influence the salary pay. \n",
    "\n",
    "A Model can be thought of as a mathematical equation used to predict value give one or more other value. "
   ]
  },
  {
   "cell_type": "code",
   "execution_count": 24,
   "id": "c518ea08",
   "metadata": {},
   "outputs": [
    {
     "data": {
      "text/html": [
       "<div>\n",
       "<style scoped>\n",
       "    .dataframe tbody tr th:only-of-type {\n",
       "        vertical-align: middle;\n",
       "    }\n",
       "\n",
       "    .dataframe tbody tr th {\n",
       "        vertical-align: top;\n",
       "    }\n",
       "\n",
       "    .dataframe thead th {\n",
       "        text-align: right;\n",
       "    }\n",
       "</style>\n",
       "<table border=\"1\" class=\"dataframe\">\n",
       "  <thead>\n",
       "    <tr style=\"text-align: right;\">\n",
       "      <th></th>\n",
       "      <th>Respondent</th>\n",
       "      <th>CareerSatisfaction</th>\n",
       "      <th>JobSatisfaction</th>\n",
       "      <th>HoursPerWeek</th>\n",
       "      <th>StackOverflowSatisfaction</th>\n",
       "      <th>Salary</th>\n",
       "      <th>ExpectedSalary</th>\n",
       "    </tr>\n",
       "  </thead>\n",
       "  <tbody>\n",
       "    <tr>\n",
       "      <th>3</th>\n",
       "      <td>4</td>\n",
       "      <td>6.0</td>\n",
       "      <td>3.0</td>\n",
       "      <td>5.0</td>\n",
       "      <td>10.0</td>\n",
       "      <td>56319.254916</td>\n",
       "      <td>NaN</td>\n",
       "    </tr>\n",
       "    <tr>\n",
       "      <th>6</th>\n",
       "      <td>7</td>\n",
       "      <td>7.0</td>\n",
       "      <td>6.0</td>\n",
       "      <td>1.0</td>\n",
       "      <td>8.0</td>\n",
       "      <td>56319.254916</td>\n",
       "      <td>NaN</td>\n",
       "    </tr>\n",
       "    <tr>\n",
       "      <th>7</th>\n",
       "      <td>8</td>\n",
       "      <td>7.0</td>\n",
       "      <td>7.0</td>\n",
       "      <td>1.0</td>\n",
       "      <td>7.0</td>\n",
       "      <td>56319.254916</td>\n",
       "      <td>NaN</td>\n",
       "    </tr>\n",
       "    <tr>\n",
       "      <th>8</th>\n",
       "      <td>9</td>\n",
       "      <td>6.0</td>\n",
       "      <td>6.0</td>\n",
       "      <td>2.0</td>\n",
       "      <td>8.0</td>\n",
       "      <td>56319.254916</td>\n",
       "      <td>NaN</td>\n",
       "    </tr>\n",
       "    <tr>\n",
       "      <th>9</th>\n",
       "      <td>10</td>\n",
       "      <td>6.0</td>\n",
       "      <td>8.0</td>\n",
       "      <td>1.0</td>\n",
       "      <td>9.0</td>\n",
       "      <td>56319.254916</td>\n",
       "      <td>NaN</td>\n",
       "    </tr>\n",
       "    <tr>\n",
       "      <th>...</th>\n",
       "      <td>...</td>\n",
       "      <td>...</td>\n",
       "      <td>...</td>\n",
       "      <td>...</td>\n",
       "      <td>...</td>\n",
       "      <td>...</td>\n",
       "      <td>...</td>\n",
       "    </tr>\n",
       "    <tr>\n",
       "      <th>51385</th>\n",
       "      <td>51386</td>\n",
       "      <td>7.0</td>\n",
       "      <td>7.0</td>\n",
       "      <td>4.0</td>\n",
       "      <td>9.0</td>\n",
       "      <td>56319.254916</td>\n",
       "      <td>NaN</td>\n",
       "    </tr>\n",
       "    <tr>\n",
       "      <th>51386</th>\n",
       "      <td>51387</td>\n",
       "      <td>7.0</td>\n",
       "      <td>4.0</td>\n",
       "      <td>2.0</td>\n",
       "      <td>9.0</td>\n",
       "      <td>56319.254916</td>\n",
       "      <td>NaN</td>\n",
       "    </tr>\n",
       "    <tr>\n",
       "      <th>51387</th>\n",
       "      <td>51388</td>\n",
       "      <td>7.0</td>\n",
       "      <td>3.0</td>\n",
       "      <td>5.0</td>\n",
       "      <td>9.0</td>\n",
       "      <td>58000.000000</td>\n",
       "      <td>NaN</td>\n",
       "    </tr>\n",
       "    <tr>\n",
       "      <th>51390</th>\n",
       "      <td>51391</td>\n",
       "      <td>6.0</td>\n",
       "      <td>7.0</td>\n",
       "      <td>1.0</td>\n",
       "      <td>9.0</td>\n",
       "      <td>40000.000000</td>\n",
       "      <td>NaN</td>\n",
       "    </tr>\n",
       "    <tr>\n",
       "      <th>51391</th>\n",
       "      <td>51392</td>\n",
       "      <td>8.0</td>\n",
       "      <td>8.0</td>\n",
       "      <td>2.0</td>\n",
       "      <td>8.0</td>\n",
       "      <td>56319.254916</td>\n",
       "      <td>NaN</td>\n",
       "    </tr>\n",
       "  </tbody>\n",
       "</table>\n",
       "<p>11989 rows × 7 columns</p>\n",
       "</div>"
      ],
      "text/plain": [
       "       Respondent  CareerSatisfaction  JobSatisfaction  HoursPerWeek  \\\n",
       "3               4                 6.0              3.0           5.0   \n",
       "6               7                 7.0              6.0           1.0   \n",
       "7               8                 7.0              7.0           1.0   \n",
       "8               9                 6.0              6.0           2.0   \n",
       "9              10                 6.0              8.0           1.0   \n",
       "...           ...                 ...              ...           ...   \n",
       "51385       51386                 7.0              7.0           4.0   \n",
       "51386       51387                 7.0              4.0           2.0   \n",
       "51387       51388                 7.0              3.0           5.0   \n",
       "51390       51391                 6.0              7.0           1.0   \n",
       "51391       51392                 8.0              8.0           2.0   \n",
       "\n",
       "       StackOverflowSatisfaction        Salary  ExpectedSalary  \n",
       "3                           10.0  56319.254916             NaN  \n",
       "6                            8.0  56319.254916             NaN  \n",
       "7                            7.0  56319.254916             NaN  \n",
       "8                            8.0  56319.254916             NaN  \n",
       "9                            9.0  56319.254916             NaN  \n",
       "...                          ...           ...             ...  \n",
       "51385                        9.0  56319.254916             NaN  \n",
       "51386                        9.0  56319.254916             NaN  \n",
       "51387                        9.0  58000.000000             NaN  \n",
       "51390                        9.0  40000.000000             NaN  \n",
       "51391                        8.0  56319.254916             NaN  \n",
       "\n",
       "[11989 rows x 7 columns]"
      ]
     },
     "execution_count": 24,
     "metadata": {},
     "output_type": "execute_result"
    }
   ],
   "source": [
    "#Heat map diagram to analyze the correlation between between all numeric value in the data set\n",
    "numerics = ['int16', 'int32', 'int64', 'float16', 'float32', 'float64']\n",
    "\n",
    "df_numeric = df.select_dtypes(include=numerics)\n",
    "df_numeric"
   ]
  },
  {
   "cell_type": "code",
   "execution_count": 25,
   "id": "33817e3e",
   "metadata": {},
   "outputs": [
    {
     "data": {
      "text/plain": [
       "<AxesSubplot:title={'center':'Correlation map'}>"
      ]
     },
     "execution_count": 25,
     "metadata": {},
     "output_type": "execute_result"
    },
    {
     "data": {
      "image/png": "[encoded data removed]",
      "text/plain": [
       "<Figure size 576x576 with 2 Axes>"
      ]
     },
     "metadata": {
      "needs_background": "light"
     },
     "output_type": "display_data"
    }
   ],
   "source": [
    "#I use a correlation matrix to see how the attributes relate to each other\n",
    "fig = plt.figure(figsize = (8,8))\n",
    "plt.title(\"Correlation map\")\n",
    "sns.heatmap(df_numeric.corr(), annot = True, fmt=\".2f\", cmap = 'Blues')"
   ]
  },
  {
   "cell_type": "markdown",
   "id": "de29793e",
   "metadata": {},
   "source": [
    "# simple linear regression\n",
    "\n",
    "One example of a Data Model that I  will be using is:\n",
    "Simple Linear Regression\n",
    "\n",
    "Simple Linear Regression is a method to help us understand the relationship between two variables:\n",
    "\n",
    "    The predictor/independent variable (X)\n",
    "    The response/dependent variable (Y)\n",
    "\n",
    "The result of Linear Regression is a linear function that predicts the response (dependent) variable as a function of the predictor (independent) variable.\n",
    "\n",
    "Linear Function\n",
    "𝑌ℎ𝑎𝑡=𝑎+𝑏𝑋\n"
   ]
  },
  {
   "cell_type": "code",
   "execution_count": 194,
   "id": "7f129a51",
   "metadata": {},
   "outputs": [
    {
     "data": {
      "text/plain": [
       "LinearRegression()"
      ]
     },
     "execution_count": 194,
     "metadata": {},
     "output_type": "execute_result"
    }
   ],
   "source": [
    "#Create the linear regression object:\n",
    "lm = LinearRegression()\n",
    "lm"
   ]
  },
  {
   "cell_type": "markdown",
   "id": "c016c7da",
   "metadata": {},
   "source": [
    "How could \"CareerSatisfaction\" help in  the prediction of developers salary\n"
   ]
  },
  {
   "cell_type": "code",
   "execution_count": 195,
   "id": "fa30cf18",
   "metadata": {},
   "outputs": [],
   "source": [
    "X = df[[\"CareerSatisfaction\" ]]\n",
    "Y = df[\"Salary\"]"
   ]
  },
  {
   "cell_type": "code",
   "execution_count": 196,
   "id": "b5748dbb",
   "metadata": {},
   "outputs": [
    {
     "data": {
      "text/plain": [
       "LinearRegression()"
      ]
     },
     "execution_count": 196,
     "metadata": {},
     "output_type": "execute_result"
    }
   ],
   "source": [
    "#Fit the linear model using CareerSatisfaction:\n",
    "lm.fit(X,Y)"
   ]
  },
  {
   "cell_type": "code",
   "execution_count": 197,
   "id": "d17ea4fa",
   "metadata": {},
   "outputs": [
    {
     "data": {
      "text/plain": [
       "array([54484.24562608, 55589.73209439, 55589.73209439, 54484.24562608,\n",
       "       54484.24562608])"
      ]
     },
     "execution_count": 197,
     "metadata": {},
     "output_type": "execute_result"
    }
   ],
   "source": [
    "Yhat=lm.predict(X)\n",
    "Yhat[0:5]   "
   ]
  },
  {
   "cell_type": "code",
   "execution_count": 198,
   "id": "8fc929aa",
   "metadata": {},
   "outputs": [
    {
     "data": {
      "text/plain": [
       "47851.32681622776"
      ]
     },
     "execution_count": 198,
     "metadata": {},
     "output_type": "execute_result"
    }
   ],
   "source": [
    "#What is the value of the intercept?\n",
    "lm.intercept_\n"
   ]
  },
  {
   "cell_type": "code",
   "execution_count": 199,
   "id": "0941e921",
   "metadata": {},
   "outputs": [
    {
     "data": {
      "text/plain": [
       "array([1105.48646831])"
      ]
     },
     "execution_count": 199,
     "metadata": {},
     "output_type": "execute_result"
    }
   ],
   "source": [
    "#What are the values of the coefficients?\n",
    "lm.coef_\n"
   ]
  },
  {
   "cell_type": "markdown",
   "id": "3bb03d6b",
   "metadata": {},
   "source": [
    "\n",
    "𝑌ℎ𝑎𝑡=𝑎+𝑏𝑋\n",
    "\n",
    "Plugging in the actual values we get:\n",
    "\n",
    "Salary = 33382.80846157742 +\n",
    "2788.3408063 * CareerSatisfaction"
   ]
  },
  {
   "cell_type": "markdown",
   "id": "c6fa356b",
   "metadata": {},
   "source": [
    "# multiple linear regression\n",
    "\n",
    " Multiple Linear Regression is very similar to Simple Linear Regression, but this method is used to explain the relationship between one continuous response (dependent) variable and two or more predictor (independent) variables"
   ]
  },
  {
   "cell_type": "code",
   "execution_count": 200,
   "id": "ab4a1b2a",
   "metadata": {},
   "outputs": [],
   "source": [
    "Z = df[['CareerSatisfaction', 'JobSatisfaction', 'HoursPerWeek', 'StackOverflowSatisfaction']]\n",
    "Y = df[\"Salary\"]"
   ]
  },
  {
   "cell_type": "code",
   "execution_count": 201,
   "id": "e900c168",
   "metadata": {
    "scrolled": true
   },
   "outputs": [
    {
     "data": {
      "text/plain": [
       "LinearRegression()"
      ]
     },
     "execution_count": 201,
     "metadata": {},
     "output_type": "execute_result"
    }
   ],
   "source": [
    "#Fit the linear model using CareerSatisfaction:\n",
    "lm.fit(Z,Y)"
   ]
  },
  {
   "cell_type": "code",
   "execution_count": 202,
   "id": "ca0878df",
   "metadata": {},
   "outputs": [
    {
     "data": {
      "text/plain": [
       "array([52531.06361799, 56679.50560497, 57715.45966668, 55078.42110253,\n",
       "       53654.6773923 ])"
      ]
     },
     "execution_count": 202,
     "metadata": {},
     "output_type": "execute_result"
    }
   ],
   "source": [
    "Yhat=lm.predict(Z)\n",
    "Yhat[0:5]   "
   ]
  },
  {
   "cell_type": "code",
   "execution_count": 203,
   "id": "642f9089",
   "metadata": {},
   "outputs": [
    {
     "data": {
      "text/plain": [
       "58441.61635017133"
      ]
     },
     "execution_count": 203,
     "metadata": {},
     "output_type": "execute_result"
    }
   ],
   "source": [
    "#What is the value of the intercept(a)?\n",
    "lm.intercept_\n"
   ]
  },
  {
   "cell_type": "code",
   "execution_count": 204,
   "id": "2192aec7",
   "metadata": {},
   "outputs": [
    {
     "data": {
      "text/plain": [
       "array([ 1374.31728596,  -204.85228834,  -226.76721649, -1240.80635005])"
      ]
     },
     "execution_count": 204,
     "metadata": {},
     "output_type": "execute_result"
    }
   ],
   "source": [
    "#What are the values of the coefficients (b1, b2, b3, b4)?\n",
    "lm.coef_"
   ]
  },
  {
   "cell_type": "markdown",
   "id": "5d257cb2",
   "metadata": {},
   "source": [
    "\n",
    "𝑌ℎ𝑎𝑡=𝑎+𝑏_1𝑋_1+𝑏_2𝑋_2+𝑏_3𝑋_3+𝑏_4𝑋_4\n",
    "\n",
    "Plugging in the actual values I got:\n",
    "\n",
    "Salary = 60439.94008888537 +  3469.89263979*CareerSatisfaction -610.08510888*JobSatisfaction  -818.51499385*HoursPerWeek -3059.47010683*StackOverflowSatisfaction\n",
    "\n"
   ]
  },
  {
   "cell_type": "markdown",
   "id": "0abddf38",
   "metadata": {},
   "source": [
    "# model evaluation using visualization"
   ]
  },
  {
   "cell_type": "markdown",
   "id": "8b10d95d",
   "metadata": {},
   "source": [
    "# simple linear regression"
   ]
  },
  {
   "cell_type": "code",
   "execution_count": 205,
   "id": "9cace567",
   "metadata": {},
   "outputs": [
    {
     "data": {
      "text/plain": [
       "(0.0, 206849.99779768023)"
      ]
     },
     "execution_count": 205,
     "metadata": {},
     "output_type": "execute_result"
    },
    {
     "name": "stderr",
     "output_type": "stream",
     "text": [
      "/data/user/0/ru.iiec.pydroid3/files/aarch64-linux-android/lib/python3.9/site-packages/matplotlib/bezier.py:216: RuntimeWarning: divide by zero encountered in power\n",
      "  return (np.power.outer(1 - t, self._orders[::-1])\n",
      "/data/user/0/ru.iiec.pydroid3/files/aarch64-linux-android/lib/python3.9/site-packages/matplotlib/bezier.py:217: RuntimeWarning: divide by zero encountered in power\n",
      "  * np.power.outer(t, self._orders)) @ self._px\n"
     ]
    },
    {
     "data": {
      "image/png": "[encoded data removed]",
      "text/plain": [
       "<Figure size 864x720 with 1 Axes>"
      ]
     },
     "metadata": {
      "needs_background": "light"
     },
     "output_type": "display_data"
    }
   ],
   "source": [
    "# visualize CareerSatisfaction as potential predictor variable of Salary using regression plot:\n",
    "width = 12\n",
    "height = 10\n",
    "plt.figure(figsize=(width, height))\n",
    "sns.regplot(x=\"CareerSatisfaction\", y=\"Salary\", data=df)\n",
    "plt.ylim(0,)"
   ]
  },
  {
   "cell_type": "markdown",
   "id": "78885e73",
   "metadata": {},
   "source": [
    "from the plot,salary is positively correlated to CareerSatisfaction since the regression slope is positive. \n",
    "\n",
    "also comparing this plot to the regression plot of \"JobSatisfaction\" ."
   ]
  },
  {
   "cell_type": "code",
   "execution_count": 206,
   "id": "5d530e61",
   "metadata": {},
   "outputs": [
    {
     "data": {
      "text/plain": [
       "(0.0, 206849.99779768023)"
      ]
     },
     "execution_count": 206,
     "metadata": {},
     "output_type": "execute_result"
    },
    {
     "name": "stderr",
     "output_type": "stream",
     "text": [
      "/data/user/0/ru.iiec.pydroid3/files/aarch64-linux-android/lib/python3.9/site-packages/matplotlib/bezier.py:216: RuntimeWarning: divide by zero encountered in power\n",
      "  return (np.power.outer(1 - t, self._orders[::-1])\n",
      "/data/user/0/ru.iiec.pydroid3/files/aarch64-linux-android/lib/python3.9/site-packages/matplotlib/bezier.py:217: RuntimeWarning: divide by zero encountered in power\n",
      "  * np.power.outer(t, self._orders)) @ self._px\n"
     ]
    },
    {
     "data": {
      "image/png": "[encoded data removed]",
      "text/plain": [
       "<Figure size 864x720 with 1 Axes>"
      ]
     },
     "metadata": {
      "needs_background": "light"
     },
     "output_type": "display_data"
    }
   ],
   "source": [
    "# visualize JobSatisfaction as potential predictor variable of Salary using regression plot:\n",
    "width = 12\n",
    "height = 10\n",
    "plt.figure(figsize=(width, height))\n",
    "sns.regplot(x=\"JobSatisfaction\", y=\"Salary\", data=df)\n",
    "plt.ylim(0,)"
   ]
  },
  {
   "cell_type": "markdown",
   "id": "2a74388d",
   "metadata": {},
   "source": [
    "comparing the regression plot of \" CareerSatisfaction\" and JobSatisfaction, the regression line of the initial increase more compare to that of the later, in comparison CareerSatisfaction might be a better predictor of Salary compare to JobSatisfaction. "
   ]
  },
  {
   "cell_type": "code",
   "execution_count": 207,
   "id": "b2052dcc",
   "metadata": {},
   "outputs": [
    {
     "data": {
      "text/html": [
       "<div>\n",
       "<style scoped>\n",
       "    .dataframe tbody tr th:only-of-type {\n",
       "        vertical-align: middle;\n",
       "    }\n",
       "\n",
       "    .dataframe tbody tr th {\n",
       "        vertical-align: top;\n",
       "    }\n",
       "\n",
       "    .dataframe thead th {\n",
       "        text-align: right;\n",
       "    }\n",
       "</style>\n",
       "<table border=\"1\" class=\"dataframe\">\n",
       "  <thead>\n",
       "    <tr style=\"text-align: right;\">\n",
       "      <th></th>\n",
       "      <th>CareerSatisfaction</th>\n",
       "      <th>Salary</th>\n",
       "    </tr>\n",
       "  </thead>\n",
       "  <tbody>\n",
       "    <tr>\n",
       "      <th>CareerSatisfaction</th>\n",
       "      <td>1.000000</td>\n",
       "      <td>0.081733</td>\n",
       "    </tr>\n",
       "    <tr>\n",
       "      <th>Salary</th>\n",
       "      <td>0.081733</td>\n",
       "      <td>1.000000</td>\n",
       "    </tr>\n",
       "  </tbody>\n",
       "</table>\n",
       "</div>"
      ],
      "text/plain": [
       "                    CareerSatisfaction    Salary\n",
       "CareerSatisfaction            1.000000  0.081733\n",
       "Salary                        0.081733  1.000000"
      ]
     },
     "execution_count": 207,
     "metadata": {},
     "output_type": "execute_result"
    }
   ],
   "source": [
    "#i then check between the two variable, which has a stronger correlation with salary\n",
    "df[[\"CareerSatisfaction\", \"Salary\"]].corr()"
   ]
  },
  {
   "cell_type": "code",
   "execution_count": 208,
   "id": "91f29689",
   "metadata": {},
   "outputs": [
    {
     "data": {
      "text/html": [
       "<div>\n",
       "<style scoped>\n",
       "    .dataframe tbody tr th:only-of-type {\n",
       "        vertical-align: middle;\n",
       "    }\n",
       "\n",
       "    .dataframe tbody tr th {\n",
       "        vertical-align: top;\n",
       "    }\n",
       "\n",
       "    .dataframe thead th {\n",
       "        text-align: right;\n",
       "    }\n",
       "</style>\n",
       "<table border=\"1\" class=\"dataframe\">\n",
       "  <thead>\n",
       "    <tr style=\"text-align: right;\">\n",
       "      <th></th>\n",
       "      <th>JobSatisfaction</th>\n",
       "      <th>Salary</th>\n",
       "    </tr>\n",
       "  </thead>\n",
       "  <tbody>\n",
       "    <tr>\n",
       "      <th>JobSatisfaction</th>\n",
       "      <td>1.000000</td>\n",
       "      <td>0.040203</td>\n",
       "    </tr>\n",
       "    <tr>\n",
       "      <th>Salary</th>\n",
       "      <td>0.040203</td>\n",
       "      <td>1.000000</td>\n",
       "    </tr>\n",
       "  </tbody>\n",
       "</table>\n",
       "</div>"
      ],
      "text/plain": [
       "                 JobSatisfaction    Salary\n",
       "JobSatisfaction         1.000000  0.040203\n",
       "Salary                  0.040203  1.000000"
      ]
     },
     "execution_count": 208,
     "metadata": {},
     "output_type": "execute_result"
    }
   ],
   "source": [
    "df[[\"JobSatisfaction\", \"Salary\"]].corr()"
   ]
  },
  {
   "cell_type": "markdown",
   "id": "2ab62c18",
   "metadata": {},
   "source": [
    "Hence, it's evident from the above analysis that CareerSatisfaction is more correlated with salary compare to JobSatisfaction"
   ]
  },
  {
   "cell_type": "markdown",
   "id": "43e00181",
   "metadata": {},
   "source": [
    "# multiple linear regression\n",
    "\n",
    "\n"
   ]
  },
  {
   "cell_type": "code",
   "execution_count": 209,
   "id": "cd155de0",
   "metadata": {},
   "outputs": [
    {
     "data": {
      "text/plain": [
       "array([52531.06361799, 56679.50560497, 57715.45966668, ...,\n",
       "       55146.187254  , 53859.52968063, 57417.35109777])"
      ]
     },
     "execution_count": 209,
     "metadata": {},
     "output_type": "execute_result"
    }
   ],
   "source": [
    "#First, l made a prediction:\n",
    "Y_hat = lm.predict(Z)\n",
    "Y_hat"
   ]
  },
  {
   "cell_type": "code",
   "execution_count": 210,
   "id": "4c9a82df",
   "metadata": {},
   "outputs": [
    {
     "name": "stderr",
     "output_type": "stream",
     "text": [
      "/data/user/0/ru.iiec.pydroid3/files/aarch64-linux-android/lib/python3.9/site-packages/seaborn/distributions.py:2619: FutureWarning: `distplot` is a deprecated function and will be removed in a future version. Please adapt your code to use either `displot` (a figure-level function with similar flexibility) or `kdeplot` (an axes-level function for kernel density plots).\n",
      "  warnings.warn(msg, FutureWarning)\n",
      "/data/user/0/ru.iiec.pydroid3/files/aarch64-linux-android/lib/python3.9/site-packages/seaborn/distributions.py:2619: FutureWarning: `distplot` is a deprecated function and will be removed in a future version. Please adapt your code to use either `displot` (a figure-level function with similar flexibility) or `kdeplot` (an axes-level function for kernel density plots).\n",
      "  warnings.warn(msg, FutureWarning)\n"
     ]
    },
    {
     "data": {
      "image/png": "[encoded data removed]",
      "text/plain": [
       "<Figure size 864x720 with 1 Axes>"
      ]
     },
     "metadata": {
      "needs_background": "light"
     },
     "output_type": "display_data"
    }
   ],
   "source": [
    "plt.figure(figsize=(width, height))\n",
    "\n",
    "\n",
    "ax1 = sns.distplot(df['Salary'], hist=False, color=\"r\", label=\"Actual Value\")\n",
    "sns.distplot(Y_hat, hist=False, color=\"b\", label=\"Fitted Values\" , ax=ax1)\n",
    "\n",
    "\n",
    "plt.title('Actual vs Fitted Values for Salary')\n",
    "plt.xlabel('Salary (in dollars)')\n",
    "plt.ylabel('Proportion of developers')\n",
    "\n",
    "plt.show()\n",
    "plt.close()"
   ]
  },
  {
   "cell_type": "markdown",
   "id": "e3af5356",
   "metadata": {},
   "source": [
    "From the plot, the fitted values are not close to the actual values.More improvement need to be done on the model. "
   ]
  },
  {
   "cell_type": "markdown",
   "id": "c3b4ede9",
   "metadata": {},
   "source": [
    "# polynomial regression and pipelines\n",
    "\n",
    "Polynomial regression is a particular case of the general linear regression model or multiple linear regression models.\n",
    "\n",
    "\n",
    "from earlier, as linear model did not provide the best fit while using \"CareerSatisfaction\" as the predictor variable. hence i proceed with fitting  a polynomial model to the data instead.\n"
   ]
  },
  {
   "cell_type": "code",
   "execution_count": 211,
   "id": "a23e56c5",
   "metadata": {},
   "outputs": [],
   "source": [
    "#i  will use the following function to plot the data:\n",
    "def PlotPolly(model, independent_variable, dependent_variabble, Name):\n",
    "    x_new = np.linspace(2, 9, 11)\n",
    "    y_new = model(x_new)\n",
    "\n",
    "    plt.plot(independent_variable, dependent_variabble, '.', x_new, y_new, '-')\n",
    "    plt.title('Polynomial Fit with Matplotlib for Salary ~ Length')\n",
    "    ax = plt.gca()\n",
    "    ax.set_facecolor((0.898, 0.898, 0.898))\n",
    "    fig = plt.gcf()\n",
    "    plt.xlabel(Name)\n",
    "    plt.ylabel('Salary of Developers')\n",
    "\n",
    "    plt.show()\n",
    "    plt.close()"
   ]
  },
  {
   "cell_type": "code",
   "execution_count": 212,
   "id": "f5076aca",
   "metadata": {},
   "outputs": [],
   "source": [
    "# get the variables:\n",
    "x = df[\"CareerSatisfaction\" ]\n",
    "y= df[\"Salary\"]"
   ]
  },
  {
   "cell_type": "markdown",
   "id": "568fab58",
   "metadata": {},
   "source": [
    " fitting the polynomial using the function polyfit, then use the function poly1d to display the polynomial function."
   ]
  },
  {
   "cell_type": "code",
   "execution_count": 213,
   "id": "cf25ad6c",
   "metadata": {},
   "outputs": [
    {
     "name": "stdout",
     "output_type": "stream",
     "text": [
      "        3        2\n",
      "-60.21 x + 1025 x - 3891 x + 5.372e+04\n"
     ]
    }
   ],
   "source": [
    "# Here I  use a polynomial of the 3rd order (cubic) \n",
    "f = np.polyfit(x, y, 3)\n",
    "p = np.poly1d(f)\n",
    "print(p)"
   ]
  },
  {
   "cell_type": "code",
   "execution_count": 214,
   "id": "c38d83a4",
   "metadata": {
    "scrolled": true
   },
   "outputs": [
    {
     "data": {
      "image/png": "[encoded data removed]",
      "text/plain": [
       "<Figure size 432x288 with 1 Axes>"
      ]
     },
     "metadata": {
      "needs_background": "light"
     },
     "output_type": "display_data"
    }
   ],
   "source": [
    "#plot the function:\n",
    "PlotPolly(p, x, y, 'CareerSatisfaction')"
   ]
  },
  {
   "cell_type": "code",
   "execution_count": 215,
   "id": "70086aff",
   "metadata": {},
   "outputs": [
    {
     "data": {
      "text/plain": [
       "PolynomialFeatures()"
      ]
     },
     "execution_count": 215,
     "metadata": {},
     "output_type": "execute_result"
    }
   ],
   "source": [
    "#i also perform a polynomial transform on multiple features.\n",
    "# create a PolynomialFeatures object of degree 2:\n",
    "\n",
    "pr=PolynomialFeatures(degree=2)\n",
    "pr"
   ]
  },
  {
   "cell_type": "code",
   "execution_count": 216,
   "id": "c53d025f",
   "metadata": {},
   "outputs": [],
   "source": [
    "Z = df[['CareerSatisfaction', 'JobSatisfaction', 'HoursPerWeek', 'StackOverflowSatisfaction']]\n"
   ]
  },
  {
   "cell_type": "code",
   "execution_count": 217,
   "id": "0b23ef0d",
   "metadata": {},
   "outputs": [],
   "source": [
    "Z_pr=pr.fit_transform(Z)"
   ]
  },
  {
   "cell_type": "code",
   "execution_count": 218,
   "id": "ddd03462",
   "metadata": {},
   "outputs": [
    {
     "data": {
      "text/plain": [
       "(12169, 4)"
      ]
     },
     "execution_count": 218,
     "metadata": {},
     "output_type": "execute_result"
    }
   ],
   "source": [
    "#In the original data, there are 12169 samples and 4 features.\n",
    "Z.shape"
   ]
  },
  {
   "cell_type": "code",
   "execution_count": 219,
   "id": "ba085bbf",
   "metadata": {},
   "outputs": [
    {
     "data": {
      "text/plain": [
       "(12169, 15)"
      ]
     },
     "execution_count": 219,
     "metadata": {},
     "output_type": "execute_result"
    }
   ],
   "source": [
    "Z_pr.shape"
   ]
  },
  {
   "cell_type": "markdown",
   "id": "9cc7fc79",
   "metadata": {},
   "source": [
    "# pipeline\n",
    "\n",
    "Data Pipelines simplify the steps of processing the data. The module Pipeline is used to create a pipeline. I also made uses of standardScaler  as a step in my Pipeline process.\n"
   ]
  },
  {
   "cell_type": "code",
   "execution_count": 220,
   "id": "d257b377",
   "metadata": {},
   "outputs": [],
   "source": [
    "Input=[('scale',StandardScaler()), ('polynomial', PolynomialFeatures(include_bias=False)), ('model',LinearRegression())]\n"
   ]
  },
  {
   "cell_type": "code",
   "execution_count": 221,
   "id": "8f70aabd",
   "metadata": {},
   "outputs": [
    {
     "data": {
      "text/plain": [
       "Pipeline(steps=[('scale', StandardScaler()),\n",
       "                ('polynomial', PolynomialFeatures(include_bias=False)),\n",
       "                ('model', LinearRegression())])"
      ]
     },
     "execution_count": 221,
     "metadata": {},
     "output_type": "execute_result"
    }
   ],
   "source": [
    "#I input the list as an argument to the pipeline constructor:\n",
    "pipe=Pipeline(Input)\n",
    "pipe"
   ]
  },
  {
   "cell_type": "markdown",
   "id": "b7eea101",
   "metadata": {},
   "source": [
    "First, I  converted the data type Z to type float to avoid conversion warnings that may appear as a result of StandardScaler taking float inputs.\n",
    "\n",
    "Then, I normalize the data, perform a transform and fit the model simultaneously.\n"
   ]
  },
  {
   "cell_type": "code",
   "execution_count": 222,
   "id": "79e580cc",
   "metadata": {},
   "outputs": [
    {
     "data": {
      "text/plain": [
       "Pipeline(steps=[('scale', StandardScaler()),\n",
       "                ('polynomial', PolynomialFeatures(include_bias=False)),\n",
       "                ('model', LinearRegression())])"
      ]
     },
     "execution_count": 222,
     "metadata": {},
     "output_type": "execute_result"
    }
   ],
   "source": [
    "Z = Z.astype(float)\n",
    "pipe.fit(Z,y)"
   ]
  },
  {
   "cell_type": "code",
   "execution_count": 223,
   "id": "afc86659",
   "metadata": {},
   "outputs": [
    {
     "data": {
      "text/plain": [
       "array([51830.02490375, 57109.44021124, 58098.49122962, 55019.75151024])"
      ]
     },
     "execution_count": 223,
     "metadata": {},
     "output_type": "execute_result"
    }
   ],
   "source": [
    "#print out the prediction for the salary\n",
    "ypipe=pipe.predict(Z)\n",
    "ypipe[0:4]"
   ]
  },
  {
   "cell_type": "markdown",
   "id": "ab3965a1",
   "metadata": {},
   "source": [
    "# measures for in-sample evaluation\n",
    "\n",
    "When evaluating the models, not only did I  wanted to visualize the results, but we also wanted a quantitative measure to determine how accurate the model is.\n",
    "\n",
    "Two very important measures that are often used in Statistics to determine the accuracy of a model are:\n",
    "\n",
    "    R^2 / R-squared\n",
    "    Mean Squared Error (MSE)\n",
    "\n",
    "R-squared\n",
    "\n",
    "R squared, also known as the coefficient of determination, is a measure to indicate how close the data is to the fitted regression line.\n",
    "\n",
    "\n",
    "Mean Squared Error (MSE)\n",
    "\n",
    "The Mean Squared Error measures the average of the squares of errors. \n"
   ]
  },
  {
   "cell_type": "markdown",
   "id": "36bd2c10",
   "metadata": {},
   "source": [
    "# model 1: simple linear regression\n",
    "\n",
    "Let's calculate the R^2:\n"
   ]
  },
  {
   "cell_type": "code",
   "execution_count": 224,
   "id": "00ce5aab",
   "metadata": {},
   "outputs": [
    {
     "name": "stdout",
     "output_type": "stream",
     "text": [
      "The R-square is:  0.006680203991498712\n"
     ]
    }
   ],
   "source": [
    "#CareerSatisfaction_fit\n",
    "\n",
    "lm.fit(X, Y)\n",
    "# Find the R^2\n",
    "print('The R-square is: ', lm.score(X, Y))"
   ]
  },
  {
   "cell_type": "markdown",
   "id": "1068a4ba",
   "metadata": {},
   "source": [
    "I can say that ~0.67% of the variation of the Salary is explained by this simple linear model \"CareerSatisfaction_fit\".\n",
    "\n",
    "\n",
    "Let's calculate the MSE:\n",
    "\n",
    "I can predict the output i.e., \"yhat\" using the predict method, where X is the input variable:\n"
   ]
  },
  {
   "cell_type": "code",
   "execution_count": 225,
   "id": "00ae7e81",
   "metadata": {},
   "outputs": [
    {
     "name": "stdout",
     "output_type": "stream",
     "text": [
      "The output of the first four predicted value is:  [54484.24562608 55589.73209439 55589.73209439 54484.24562608]\n"
     ]
    }
   ],
   "source": [
    "Yhat=lm.predict(X)\n",
    "print('The output of the first four predicted value is: ', Yhat[0:4])"
   ]
  },
  {
   "cell_type": "code",
   "execution_count": 226,
   "id": "83139d2a",
   "metadata": {},
   "outputs": [
    {
     "name": "stdout",
     "output_type": "stream",
     "text": [
      "The mean square error of Salary and predicted value is:  616886228.8419632\n"
     ]
    }
   ],
   "source": [
    "#comparing the predicted results with the actual results:\n",
    "mse = mean_squared_error(df['Salary'], Yhat)\n",
    "print('The mean square error of Salary and predicted value is: ', mse)"
   ]
  },
  {
   "cell_type": "markdown",
   "id": "189d8178",
   "metadata": {},
   "source": [
    "# model 2: multiple linear regression\n",
    "\n",
    "Let's calculate the R^2:\n"
   ]
  },
  {
   "cell_type": "code",
   "execution_count": 227,
   "id": "f7d3c486",
   "metadata": {
    "scrolled": true
   },
   "outputs": [
    {
     "name": "stdout",
     "output_type": "stream",
     "text": [
      "The R-square is:  0.014336154518545197\n"
     ]
    }
   ],
   "source": [
    "# fit the model \n",
    "\n",
    "lm.fit(Z, df['Salary'])\n",
    "# Find the R^2\n",
    "print('The R-square is: ', lm.score(Z, df['Salary']))"
   ]
  },
  {
   "cell_type": "markdown",
   "id": "0aebddbe",
   "metadata": {},
   "source": [
    "I can say that ~1.43% of the variation of the Salary is explained by this multiple linear regression \"multi_fit\".\n",
    "\n",
    "\n",
    "Let's calculate the MSE:"
   ]
  },
  {
   "cell_type": "code",
   "execution_count": 228,
   "id": "fe55fa1c",
   "metadata": {},
   "outputs": [],
   "source": [
    "Y_predict_multifit = lm.predict(Z)"
   ]
  },
  {
   "cell_type": "code",
   "execution_count": 229,
   "id": "47c0a476",
   "metadata": {
    "scrolled": true
   },
   "outputs": [
    {
     "name": "stdout",
     "output_type": "stream",
     "text": [
      "The mean square error of price and predicted value using multifit is:  612131616.6135465\n"
     ]
    }
   ],
   "source": [
    "print('The mean square error of salary and predicted value using multifit is: ', \\\n",
    "      mean_squared_error(df['Salary'], Y_predict_multifit))"
   ]
  },
  {
   "cell_type": "markdown",
   "id": "4b5f98ab",
   "metadata": {},
   "source": [
    "# model 3: polynomial fit\n",
    "\n",
    "Let's calculate the R^2.\n"
   ]
  },
  {
   "cell_type": "code",
   "execution_count": 231,
   "id": "7af11982",
   "metadata": {},
   "outputs": [
    {
     "name": "stdout",
     "output_type": "stream",
     "text": [
      "The R-square value is:  0.008129296524677865\n"
     ]
    }
   ],
   "source": [
    "r_squared = r2_score(y, p(x))\n",
    "print('The R-square value is: ', r_squared)"
   ]
  },
  {
   "cell_type": "markdown",
   "id": "636867f9",
   "metadata": {},
   "source": [
    "I can say that ~0.812% of the variation of price is explained by this polynomial fit.\n"
   ]
  },
  {
   "cell_type": "markdown",
   "id": "ad68d13a",
   "metadata": {},
   "source": [
    "MSE\n",
    "\n",
    "let's calculate the mean square error"
   ]
  },
  {
   "cell_type": "code",
   "execution_count": 232,
   "id": "b61a817d",
   "metadata": {},
   "outputs": [
    {
     "data": {
      "text/plain": [
       "615986291.8512498"
      ]
     },
     "execution_count": 232,
     "metadata": {},
     "output_type": "execute_result"
    }
   ],
   "source": [
    "mean_squared_error(df['Salary'], p(x))"
   ]
  },
  {
   "cell_type": "markdown",
   "id": "d6707c8a",
   "metadata": {},
   "source": [
    "# decision making: determining a good model fit\n",
    "\n",
    "Now that i have visualized the different models, and generated the R-squared and MSE values for the fits, how do i determine a good model fit?\n",
    "\n",
    "    What is a good R-squared value?\n",
    "\n",
    "When comparing models, the model with the higher R-squared value is a better fit for the data.\n",
    "\n",
    "    What is a good MSE?\n",
    "\n",
    "When comparing models, the model with the smallest MSE value is a better fit for the data.\n",
    "Let's take a look at the values for the different models.\n",
    "\n",
    "Simple Linear Regression: Using CareerSatisfaction as a Predictor Variable of Salary.\n",
    "\n",
    "    R-squared:  0.006680203991498712\n",
    "    MSE: 3.19 x10^8\n",
    "\n",
    "Multiple Linear Regression: Using CareerSatisfaction, JobSatisfaction, HoursPerWeek, and StackOverflowSatisfaction as Predictor Variables of Salary.\n",
    "\n",
    "    R-squared:  0.014336154518545197\n",
    "    MSE: 6.12 x10^8\n",
    "\n",
    "Polynomial Fit: Using CareerSatisfaction as a Predictor Variable of Salary.\n",
    "\n",
    "    R-squared:0.008129296524677865\n",
    "    MSE: 6.16 x 10^8\n",
    "\n",
    "Simple Linear Regression Model (SLR) vs Multiple Linear Regression Model (MLR)\n",
    "\n",
    "\n",
    "In order to compare the results of the MLR vs SLR models, I look at the combination of both the R-squared and MSE to make the best conclusion about the fit of the model.\n",
    "\n",
    "    MSE: The MSE of SLR is 3.19x10^8 while MLR has an MSE of 6.12 x10^8. The MSE of SLR is much smaller.\n",
    "    R-squared: In this case, we can also see that there is a big difference between the R-squared of the SLR and the R-squared of the MLR. The R-squared for the SLR (~0.0067) is very small compared to the R-squared for the MLR (~0.0143).\n",
    "\n",
    "This R-squared in combination with the MSE show that both MLR and SLR can partialy be a good  model fit for Salary prediction\n",
    "\n",
    "Simple Linear Model (SLR) vs. Polynomial Fit\n",
    "\n",
    "    MSE: The MSE of Polynomial fit is higher compare to that of SLR. the Polynomial Fit  brought up the MSE.\n",
    "    R-squared: The R-squared for the Polynomial Fit is larger than the R-squared for the SLR,  the Polynomial Fit also brought up the R-squared quite a bit.\n",
    "\n",
    "Since the Polynomial Fit resulted in a higher MSE and a higher R-squared, we can conclude that both can also be partially good fit model  for predicting \"Salary\".\n",
    "\n",
    "Multiple Linear Regression (MLR) vs. Polynomial Fit\n",
    "\n",
    "    MSE: The MSE for the MLR is smaller than the MSE for the Polynomial Fit.\n",
    "    R-squared: The R-squared for the MLR is also much larger than for the Polynomial Fit.\n",
    "    \n",
    "Since the Multiple Linear Regression (MLR) resulted in a smaller MSE and a higher R-squared, we can conclude that MLR is a better fit model  for predicting \"Salary\".\n"
   ]
  },
  {
   "cell_type": "markdown",
   "id": "f39a3475",
   "metadata": {},
   "source": [
    "# conclusion\n",
    "\n",
    "Comparing these three models, i came to the conclusion  the MLR model is the best model to be able to predict salary from  values given in our dataset. "
   ]
  },
  {
   "cell_type": "markdown",
   "id": "11a021bf",
   "metadata": {},
   "source": [
    "Preview the resulting dataframe in preparation for export to Tableau"
   ]
  },
  {
   "cell_type": "code",
   "execution_count": 233,
   "id": "63fb594c",
   "metadata": {
    "scrolled": true
   },
   "outputs": [
    {
     "data": {
      "text/html": [
       "<div>\n",
       "<style scoped>\n",
       "    .dataframe tbody tr th:only-of-type {\n",
       "        vertical-align: middle;\n",
       "    }\n",
       "\n",
       "    .dataframe tbody tr th {\n",
       "        vertical-align: top;\n",
       "    }\n",
       "\n",
       "    .dataframe thead th {\n",
       "        text-align: right;\n",
       "    }\n",
       "</style>\n",
       "<table border=\"1\" class=\"dataframe\">\n",
       "  <thead>\n",
       "    <tr style=\"text-align: right;\">\n",
       "      <th></th>\n",
       "      <th>index</th>\n",
       "      <th>Respondent</th>\n",
       "      <th>Professional</th>\n",
       "      <th>ProgramHobby</th>\n",
       "      <th>Country</th>\n",
       "      <th>Longitude</th>\n",
       "      <th>Latitude</th>\n",
       "      <th>University</th>\n",
       "      <th>EmploymentStatus</th>\n",
       "      <th>FormalEducation</th>\n",
       "      <th>...</th>\n",
       "      <th>StackOverflowMakeMoney</th>\n",
       "      <th>Gender</th>\n",
       "      <th>HighestEducationParents</th>\n",
       "      <th>Race</th>\n",
       "      <th>SurveyLong</th>\n",
       "      <th>QuestionsInteresting</th>\n",
       "      <th>QuestionsConfusing</th>\n",
       "      <th>InterestedAnswers</th>\n",
       "      <th>Salary</th>\n",
       "      <th>ExpectedSalary</th>\n",
       "    </tr>\n",
       "  </thead>\n",
       "  <tbody>\n",
       "    <tr>\n",
       "      <th>0</th>\n",
       "      <td>3</td>\n",
       "      <td>4</td>\n",
       "      <td>Professional non-developer who sometimes write...</td>\n",
       "      <td>Yes, both</td>\n",
       "      <td>United States</td>\n",
       "      <td>-100.445882</td>\n",
       "      <td>39.78373</td>\n",
       "      <td>No</td>\n",
       "      <td>Employed full-time</td>\n",
       "      <td>Doctoral degree</td>\n",
       "      <td>...</td>\n",
       "      <td>Disagree</td>\n",
       "      <td>Male</td>\n",
       "      <td>A doctoral degree</td>\n",
       "      <td>White or of European descent</td>\n",
       "      <td>Agree</td>\n",
       "      <td>Agree</td>\n",
       "      <td>Somewhat agree</td>\n",
       "      <td>Strongly agree</td>\n",
       "      <td>56319.254916</td>\n",
       "      <td>NaN</td>\n",
       "    </tr>\n",
       "    <tr>\n",
       "      <th>1</th>\n",
       "      <td>6</td>\n",
       "      <td>7</td>\n",
       "      <td>Professional non-developer who sometimes write...</td>\n",
       "      <td>Yes, both</td>\n",
       "      <td>United States</td>\n",
       "      <td>-100.445882</td>\n",
       "      <td>39.78373</td>\n",
       "      <td>No</td>\n",
       "      <td>Employed full-time</td>\n",
       "      <td>Master's degree</td>\n",
       "      <td>...</td>\n",
       "      <td>Disagree</td>\n",
       "      <td>Male</td>\n",
       "      <td>A doctoral degree</td>\n",
       "      <td>White or of European descent</td>\n",
       "      <td>Disagree</td>\n",
       "      <td>Agree</td>\n",
       "      <td>Disagree</td>\n",
       "      <td>Agree</td>\n",
       "      <td>56319.254916</td>\n",
       "      <td>NaN</td>\n",
       "    </tr>\n",
       "    <tr>\n",
       "      <th>2</th>\n",
       "      <td>7</td>\n",
       "      <td>8</td>\n",
       "      <td>Professional developer</td>\n",
       "      <td>Yes, both</td>\n",
       "      <td>Poland</td>\n",
       "      <td>19.134422</td>\n",
       "      <td>52.215933</td>\n",
       "      <td>No</td>\n",
       "      <td>Employed full-time</td>\n",
       "      <td>Master's degree</td>\n",
       "      <td>...</td>\n",
       "      <td>Somewhat agree</td>\n",
       "      <td>Male</td>\n",
       "      <td>A master's degree</td>\n",
       "      <td>White or of European descent</td>\n",
       "      <td>Agree</td>\n",
       "      <td>Somewhat agree</td>\n",
       "      <td>Disagree</td>\n",
       "      <td>Agree</td>\n",
       "      <td>56319.254916</td>\n",
       "      <td>NaN</td>\n",
       "    </tr>\n",
       "    <tr>\n",
       "      <th>3</th>\n",
       "      <td>8</td>\n",
       "      <td>9</td>\n",
       "      <td>Professional developer</td>\n",
       "      <td>Yes, I program as a hobby</td>\n",
       "      <td>Colombia</td>\n",
       "      <td>-72.908813</td>\n",
       "      <td>4.099917</td>\n",
       "      <td>Yes, part-time</td>\n",
       "      <td>Employed full-time</td>\n",
       "      <td>Bachelor's degree</td>\n",
       "      <td>...</td>\n",
       "      <td>Strongly disagree</td>\n",
       "      <td>Male</td>\n",
       "      <td>A bachelor's degree</td>\n",
       "      <td>Hispanic or Latino/Latina</td>\n",
       "      <td>Somewhat agree</td>\n",
       "      <td>Strongly agree</td>\n",
       "      <td>Disagree</td>\n",
       "      <td>Strongly agree</td>\n",
       "      <td>56319.254916</td>\n",
       "      <td>NaN</td>\n",
       "    </tr>\n",
       "    <tr>\n",
       "      <th>4</th>\n",
       "      <td>9</td>\n",
       "      <td>10</td>\n",
       "      <td>Professional developer</td>\n",
       "      <td>Yes, I program as a hobby</td>\n",
       "      <td>France</td>\n",
       "      <td>1.888334</td>\n",
       "      <td>46.603354</td>\n",
       "      <td>Yes, full-time</td>\n",
       "      <td>Independent contractor, freelancer, or self-em...</td>\n",
       "      <td>Master's degree</td>\n",
       "      <td>...</td>\n",
       "      <td>Disagree</td>\n",
       "      <td>Male</td>\n",
       "      <td>A doctoral degree</td>\n",
       "      <td>White or of European descent</td>\n",
       "      <td>Somewhat agree</td>\n",
       "      <td>Agree</td>\n",
       "      <td>Disagree</td>\n",
       "      <td>Agree</td>\n",
       "      <td>56319.254916</td>\n",
       "      <td>NaN</td>\n",
       "    </tr>\n",
       "  </tbody>\n",
       "</table>\n",
       "<p>5 rows × 157 columns</p>\n",
       "</div>"
      ],
      "text/plain": [
       "   index  Respondent                                       Professional  \\\n",
       "0      3           4  Professional non-developer who sometimes write...   \n",
       "1      6           7  Professional non-developer who sometimes write...   \n",
       "2      7           8                             Professional developer   \n",
       "3      8           9                             Professional developer   \n",
       "4      9          10                             Professional developer   \n",
       "\n",
       "                ProgramHobby        Country   Longitude   Latitude  \\\n",
       "0                  Yes, both  United States -100.445882   39.78373   \n",
       "1                  Yes, both  United States -100.445882   39.78373   \n",
       "2                  Yes, both         Poland   19.134422  52.215933   \n",
       "3  Yes, I program as a hobby       Colombia  -72.908813   4.099917   \n",
       "4  Yes, I program as a hobby         France    1.888334  46.603354   \n",
       "\n",
       "       University                                   EmploymentStatus  \\\n",
       "0              No                                 Employed full-time   \n",
       "1              No                                 Employed full-time   \n",
       "2              No                                 Employed full-time   \n",
       "3  Yes, part-time                                 Employed full-time   \n",
       "4  Yes, full-time  Independent contractor, freelancer, or self-em...   \n",
       "\n",
       "     FormalEducation  ... StackOverflowMakeMoney Gender  \\\n",
       "0    Doctoral degree  ...               Disagree   Male   \n",
       "1    Master's degree  ...               Disagree   Male   \n",
       "2    Master's degree  ...         Somewhat agree   Male   \n",
       "3  Bachelor's degree  ...      Strongly disagree   Male   \n",
       "4    Master's degree  ...               Disagree   Male   \n",
       "\n",
       "  HighestEducationParents                          Race      SurveyLong  \\\n",
       "0       A doctoral degree  White or of European descent           Agree   \n",
       "1       A doctoral degree  White or of European descent        Disagree   \n",
       "2       A master's degree  White or of European descent           Agree   \n",
       "3     A bachelor's degree     Hispanic or Latino/Latina  Somewhat agree   \n",
       "4       A doctoral degree  White or of European descent  Somewhat agree   \n",
       "\n",
       "  QuestionsInteresting QuestionsConfusing InterestedAnswers        Salary  \\\n",
       "0                Agree     Somewhat agree    Strongly agree  56319.254916   \n",
       "1                Agree           Disagree             Agree  56319.254916   \n",
       "2       Somewhat agree           Disagree             Agree  56319.254916   \n",
       "3       Strongly agree           Disagree    Strongly agree  56319.254916   \n",
       "4                Agree           Disagree             Agree  56319.254916   \n",
       "\n",
       "  ExpectedSalary  \n",
       "0            NaN  \n",
       "1            NaN  \n",
       "2            NaN  \n",
       "3            NaN  \n",
       "4            NaN  \n",
       "\n",
       "[5 rows x 157 columns]"
      ]
     },
     "execution_count": 233,
     "metadata": {},
     "output_type": "execute_result"
    }
   ],
   "source": [
    "df.reset_index().head()"
   ]
  },
  {
   "cell_type": "code",
   "execution_count": 4,
   "id": "9490545e",
   "metadata": {},
   "outputs": [
    {
     "name": "stdout",
     "output_type": "stream",
     "text": [
      "save successfully\n"
     ]
    }
   ],
   "source": [
    "#save to excel file \n",
    "df.to_excel(\"STARKOVER_FLOW.xlsx\", index=False)\n",
    "print(\"save successfully\")"
   ]
  }
 ],
 "metadata": {
  "kernelspec": {
   "display_name": "Python 3 (ipykernel)",
   "language": "python",
   "name": "python3"
  },
  "language_info": {
   "codemirror_mode": {
    "name": "ipython",
    "version": 3
   },
   "file_extension": ".py",
   "mimetype": "text/x-python",
   "name": "python",
   "nbconvert_exporter": "python",
   "pygments_lexer": "ipython3",
   "version": "3.9.7"
  }
 },
 "nbformat": 4,
 "nbformat_minor": 5
}
